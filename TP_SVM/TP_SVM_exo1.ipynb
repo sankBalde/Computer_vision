{
 "cells": [
  {
   "cell_type": "markdown",
   "id": "2af44935",
   "metadata": {},
   "source": [
    "Guillaume Tochon <br>\n",
    "TP OCVX2 <br>\n",
    "Promo IMAGE 2025 <br>"
   ]
  },
  {
   "cell_type": "markdown",
   "id": "fedb5aae",
   "metadata": {},
   "source": [
    "# Prise en main des solveurs d'optimisation\n",
    "\n",
    "Avant de plonger dans la résolution des SVMs, nous allons nous familiariser avec les solveurs d'optimisation disponibles dans `scipy` et `cvxopt` à travers la résolution d'un problème jouet. "
   ]
  },
  {
   "cell_type": "code",
   "execution_count": null,
   "id": "bcb83d8a",
   "metadata": {},
   "outputs": [],
   "source": [
    "## Les imports de base\n",
    "import numpy as np\n",
    "import matplotlib.pyplot as plt"
   ]
  },
  {
   "cell_type": "markdown",
   "id": "766248a9",
   "metadata": {},
   "source": [
    "## Problème jouet 1 : Minimisation d'une fonction linéaire sous contrainte quadratique avec `minimize`\n",
    "\n",
    "Considérons le problème de minimisation suivant (traité lors de la 2$^{ème}$ séance du cours) :\n",
    "\n",
    "$$\\begin{align}\n",
    "\\min_{\\mathbf{x} \\in \\mathbb{R}^2} \\quad & f(\\mathbf{x}) = 2x_1 + x_2 \\\\\n",
    "\\text{tel que} \\quad & g(\\mathbf{x}) = 3x_1^2 + x_2^2 \\leq 4\n",
    "\\end{align}\n",
    "$$\n",
    "\n",
    "Ce problème \"faussement simple\" est en réalité un problème QCQP (_Quadratically Constrained Quadratic Program_), donc avec une fonction objective quadratique et des contraintes d'inégalités quadratiques.\n",
    "Ici la fonction objective est linéaire (donc, à fortiori, quadratique).\n",
    "\n",
    "### Méthode graphique\n",
    "\n",
    "Ce problème a été résolu graphiquement en cours :\n",
    "1. nous avions commencé par visualiser l'espace admissible (lieu de sous niveau $4$ de la fonction $g$, qui est l'intérieur d'une ellipse)\n",
    "2. nous avions ensuite tracé une courbe de niveau (celle de niveau $0$) de la fonction objective $f$ pour y positionner son vecteur normal et identifier le demi-espace positif et demi-espace négatif.\n",
    "3. cherchant à **minimiser** la fonction objectif $f$, nous étions enfin parti à l'opposé du gradient $\\nabla f$ en translatant la courbe de niveau jusqu'à arriver en bordure du lieu admissible.\n",
    "\n",
    "Les 2 premières étapes sont représentées ci-dessous $\\downarrow$"
   ]
  },
  {
   "cell_type": "code",
   "execution_count": null,
   "id": "42611829",
   "metadata": {},
   "outputs": [],
   "source": [
    "# Définition de la grille\n",
    "xx1 = np.linspace(-3, 3, 400)\n",
    "xx2 = np.linspace(-3, 3, 400)\n",
    "xx1, xx2 = np.meshgrid(xx1, xx2)\n",
    "\n",
    "# Définition de la contrainte quadratique\n",
    "constraint = 3*xx1**2 + xx2**2\n",
    "\n",
    "# Définition de la fonction objective\n",
    "objective = 2*xx1 + xx2\n",
    "\n",
    "# Tracé de l'espace admissible\n",
    "plt.figure(figsize=(7, 7))\n",
    "plt.contourf(xx1, xx2, constraint, levels=[0, 4], colors=['gray', 'white'], alpha=0.5)\n",
    "plt.contour(xx1, xx2, constraint, levels=[4], colors='black')\n",
    "plt.text(1, 1.25, 'Lieu admissible', color='gray', fontsize=12, fontweight = 'bold')\n",
    "\n",
    "# Tracé de la ligne de niveai 0 de la fonction objective\n",
    "plt.contour(xx1, xx2, objective, levels=[0], colors='blue')\n",
    "plt.text(-1, 2.25, r'Courbe de niveau 0 de $f$', color='blue', fontsize=12, fontweight = 'bold')\n",
    "\n",
    "# Tracé du vecteur normal\n",
    "plt.quiver(1, -2, 2, 1, angles='xy', scale_units='xy', scale=2, color='red')\n",
    "plt.text(1.1, -1.4, r'vecteur normal $\\nabla f$', color='red', fontsize=12, fontweight = 'bold')\n",
    "\n",
    "# Labels et titre\n",
    "plt.xlabel('$x_1$')\n",
    "plt.ylabel('$x_2$')\n",
    "plt.title('Espace admissible et courbe de niveau 0 de la fonction objective')\n",
    "plt.grid(True)\n",
    "plt.show()"
   ]
  },
  {
   "cell_type": "code",
   "execution_count": null,
   "id": "92831426",
   "metadata": {},
   "outputs": [],
   "source": [
    "from scipy.optimize import minimize"
   ]
  },
  {
   "cell_type": "markdown",
   "id": "235bf551",
   "metadata": {},
   "source": [
    "### Résolution du problème jouet avec `scipy.optimize.minimize`\n",
    "\n",
    "La fonction [`minimize`](https://docs.scipy.org/doc/scipy/reference/generated/scipy.optimize.minimize.html) du module `scipy.optimize` est un outil puissant pour résoudre des problèmes d'optimisation. Elle permet de minimiser une fonction objective en respectant des contraintes, que ce soit des contraintes d'égalité, des contraintes d'inégalité, ou des contraintes de bornes.\n",
    "Elle se base pour cela sur divers algorithmes d'optimisation, et détermine automatiquement celui qui semble être le plus adapté en fonction des données fournies par l'utilisateur (identité et type des contraines, calcul de la Hessienne ou pas, etc).\n",
    "\n",
    "Ses principaux arguments sont :\n",
    "\n",
    "- **fun** : La fonction objective à minimiser. Cette fonction doit accepter un vecteur de variables et retourner un scalaire.\n",
    "- **x0** : Valeurs initiales des variables, qui spécifie les points de départ pour l'algorithme d'optimisation. Peut être initialisé au vecteur nul.\n",
    "- **method** : Méthode d'optimisation à utiliser (`'BFGS'` par défaut).\n",
    "- **constraints** : Décrit les contraintes d'égalité et d'inégalité. Elles peuvent être spécifiées sous forme de dictionnaires ou de listes de dictionnaires.\n",
    "- **bounds** : Bornes sur les variables. Peut être spécifié comme une séquence de tuples `(min, max)` pour chaque variable.\n",
    "- **options** : Paramètres supplémentaires pour la méthode d'optimisation, tels que la tolérance et le nombre maximum d'itérations.\n",
    "\n",
    "Pour plus d'informations, vous êtes renvoyés vers la [documentation officielle de `scipy.optimize.minimize`](https://docs.scipy.org/doc/scipy/reference/generated/scipy.optimize.minimize.html)"
   ]
  },
  {
   "cell_type": "markdown",
   "id": "e1dc6aed",
   "metadata": {},
   "source": [
    "#### Définition de la fonction objective via l'argument `fun`\n",
    "\n",
    "L'argument `fun` de `scipy.optimize.minimize` représente la fonction objective à minimiser. Cette fonction doit être définie explicitement par l'utilisateur comme une fonction classique en Python, qui prend en entrée un vecteur `x` de variables et qui retourne une valeur scalaire.\n",
    "\n",
    "Par exemple, si la fonction objective à minimiser est $f(\\mathbf{x}) = x_1^2 + x_2^2 - 2 x_1 x_2 = (x_1 - x_2)^2$, elle s'implémentera dans `minimize` comme ceci :\n",
    "\n",
    "```python\n",
    "def objective_function(x):\n",
    "    return x[0]**2 + x[1]**2 - 2*x[0]*x[1]\n"
   ]
  },
  {
   "cell_type": "markdown",
   "id": "e752079b",
   "metadata": {},
   "source": [
    "#### Définition des contraintes via l'argument `constraints`\n",
    "\n",
    "L'argument `constraints` de `scipy.optimize.minimize` permet de spécifier les contraintes que les variables doivent satisfaire pendant l'optimisation. En particulier :\n",
    "* ⚠️ les contraintes d'inégalité doivent être spécifiées de manière à ce que la fonction retourne une **valeur positive (ou nulle) lorsque la contrainte est respectée**.\n",
    "* ⚠️ les contraintes d'égalité doivent être spécifiées de manière à ce que la fonction retourne une **valeur nulle lorsque la contrainte est respectée**.\n",
    "\n",
    "Les contraintes sont définies sous forme d'un dictionnaire avec les clés suivantes :\n",
    "- **`type`** : Indique le type de la contrainte : `'ineq'` pour les contraintes d'inégalité, et `'eq'` pour les contraintes d'égalité.\n",
    "- **`fun`** : Une fonction qui prend un vecteur de variables et retourne la valeur de la contrainte. Sa définition est similaire à celle attendue pour la fonction objective.\n",
    "\n",
    "Par exemple, si le problème d'optimisation doit respecter les deux contraintes suivantes $g(\\mathbf{x}) = x_1^2 + x_2 \\leq 3$ et $h(\\mathbf{x}) = x_1 - 2 x_2 = 1$, elles pourront être définies comme une liste de dictionnaires pour `constraints` de la manère suivante :\n",
    "\n",
    "```python\n",
    "def ineq_constraint(x):\n",
    "    return 3 - (x[0]**2 + x[1]) # doit être positive ou nulle si respectée\n",
    "\n",
    "def eq_constraint(x):\n",
    "    return x[0] - 2*x[1] - 1 # doit être nulle si respectée\n",
    "\n",
    "constraints = [{'type': 'ineq', 'fun': ineq_constraint},\n",
    "               {'type': 'ineq', 'fun': eq_constraint}]\n"
   ]
  },
  {
   "cell_type": "markdown",
   "id": "729d0606",
   "metadata": {},
   "source": [
    "#### Format du résultat de `minimize`\n",
    "\n",
    "Le résultat de la fonction `scipy.optimize.minimize` est retourné sous la forme d'un objet `OptimizeResult` qui contient plusieurs informations importantes sur la solution trouvée. Ses principaux attributs sont :\n",
    "\n",
    "- **`x`** : Un tableau numpy contenant les valeurs optimales des variables qui minimisent la fonction objective.\n",
    "- **`fun`** : La valeur de la fonction objective à la solution optimale.\n",
    "- **`success`** : Un booléen indiquant si l'optimisation a réussi (`True`) ou échoué (`False`).\n",
    "- **`message`** : Un message décrivant le résultat de l'optimisation, indiquant la raison de l'arrêt de l'algorithme.\n",
    "- **`status`** : Un code de statut indiquant le type de sortie de l'optimiseur (par exemple, succès ou échec).\n",
    "- **`jac`** : Le gradient de la fonction objective à la solution optimale (disponible si le gradient est calculé).\n",
    "- **`hess`** : La matrice Hessienne de la fonction objective à la solution optimale (disponible si la méthode utilisée le calcule).\n",
    "\n",
    "Voici un exemple d'utilisation pour accéder à ces attributs après l'optimisation :\n",
    "\n",
    "```python\n",
    "# Résolution du problème\n",
    "result = minimize(fun=objective_function, x0=x0, constraints=constraints)\n",
    "\n",
    "# Afficher les résultats\n",
    "print(\"Point optimal :\", result.x)\n",
    "print(\"Valeur optimale de la fonction objective :\", result.fun)\n",
    "print(\"Succès de l'optimisation :\", result.success)\n",
    "print(\"Message :\", result.message)\n"
   ]
  },
  {
   "cell_type": "markdown",
   "id": "81a89d26",
   "metadata": {},
   "source": [
    "### 🛠️ 🚧 👷  À vous de jouer !\n",
    "\n",
    "Maintenant que vous avez compris (en théorie) comment définir la fonction objective et les contraintes, il est temps de mettre cela en pratique pour la résolution de notre problème QCQP :\n",
    "\n",
    "$$\\begin{align}\n",
    "\\min_{\\mathbf{x} \\in \\mathbb{R}^2} \\quad & f(\\mathbf{x}) = 2x_1 + x_2 \\\\\n",
    "\\text{tel que} \\quad & g(\\mathbf{x}) = 3x_1^2 + x_2^2 \\leq 4\n",
    "\\end{align}\n",
    "$$"
   ]
  },
  {
   "cell_type": "code",
   "execution_count": null,
   "id": "8641bd5d",
   "metadata": {},
   "outputs": [],
   "source": [
    "# définition de la fonction objective\n",
    "def objective_function(x):\n",
    "    ??? # FIXME ⚠️"
   ]
  },
  {
   "cell_type": "code",
   "execution_count": null,
   "id": "79ac179c",
   "metadata": {},
   "outputs": [],
   "source": [
    "# definition de la contrainte\n",
    "def constraint_function(x):\n",
    "    ??? # FIXME ⚠️\n",
    "\n",
    "constraints = ??? # FIXME ⚠️"
   ]
  },
  {
   "cell_type": "code",
   "execution_count": null,
   "id": "1240bb2c",
   "metadata": {},
   "outputs": [],
   "source": [
    "# initialisation de la variable primale\n",
    "x0 = ??? # FIXME ⚠️"
   ]
  },
  {
   "cell_type": "code",
   "execution_count": null,
   "id": "f53f028f",
   "metadata": {},
   "outputs": [],
   "source": [
    "result = minimize(???) # FIXME ⚠️\n",
    "\n",
    "# Affichage des résultats\n",
    "print(\"Point optimal :\", result.x)\n",
    "print(\"Valeur optimale de la fonction objective :\", result.fun)\n",
    "print(\"Succès de l'optimisation :\", result.success)\n",
    "print(\"Message :\", result.message)"
   ]
  },
  {
   "cell_type": "markdown",
   "id": "d1d0a587",
   "metadata": {},
   "source": [
    "Dans le cours, nous avions obtenu comme point optimal $\\mathbf{x}^\\star = \\left(-\\frac{4}{\\sqrt{21}}, -\\frac{6}{\\sqrt{21}}\\right)$ et comme valeur optimale $f^\\star = -\\frac{14}{\\sqrt{21}}$"
   ]
  },
  {
   "cell_type": "markdown",
   "id": "50a8c324",
   "metadata": {},
   "source": [
    "### 🛠️ 🚧 👷  À vous de jouer !\n",
    "\n",
    "Vérifiez que les valeurs numériques obtenues concordent bien avec celles attendues (`np.isclose` peut s'avérer utile ici)."
   ]
  },
  {
   "cell_type": "code",
   "execution_count": null,
   "id": "5627bf03",
   "metadata": {},
   "outputs": [],
   "source": [
    "??? # FIXME ⚠️ Alors, ça concorde ?"
   ]
  },
  {
   "cell_type": "markdown",
   "id": "3bf80edc",
   "metadata": {},
   "source": [
    "### Un beau dessin pour finir\n",
    "\n",
    "On trace ici pour finir l'étape finale de la méthode de résolution graphique, une fois que la courbe de niveau a été translaté sur sa position optimale (donc tangente au lieu admissible), en y rajoutant le point optimal que vous avez trouvé grâce à `minimize`.\n",
    "\n",
    "La cellule ci-dessous $\\downarrow$ n'est donc à exécuter qu'une fois que vous avez résolu numériquement le problème d'optimisation QCQP "
   ]
  },
  {
   "cell_type": "code",
   "execution_count": null,
   "id": "45ba0cfb",
   "metadata": {},
   "outputs": [],
   "source": [
    "# Définition de la grille\n",
    "xx1 = np.linspace(-3, 3, 400)\n",
    "xx2 = np.linspace(-3, 3, 400)\n",
    "xx1, xx2 = np.meshgrid(xx1, xx2)\n",
    "\n",
    "# Définition de la contrainte quadratique\n",
    "constraint = 3*xx1**2 + xx2**2\n",
    "\n",
    "# Définition de la fonction objectuve\n",
    "objective = 2*xx1 + xx2\n",
    "\n",
    "# Tracé du lieu admissible\n",
    "plt.figure(figsize=(7, 7))\n",
    "plt.contourf(xx1, xx2, constraint, levels=[0, 4], colors=['gray', 'white'], alpha=0.5)\n",
    "plt.contour(xx1, xx2, constraint, levels=[4], colors='black')\n",
    "plt.text(1, 1.25, 'Lieu admissible', color='gray', fontsize=12, fontweight = 'bold')\n",
    "\n",
    "# Tracé de plusieurs lignes de niveau de la fonction objective\n",
    "plt.contour(xx1, xx2, objective, levels=np.linspace(-10, 10, 15), cmap='viridis', linestyles='dashed')\n",
    "\n",
    "# Tracé de la ligne de niveau optimale\n",
    "optimal_level = result.fun\n",
    "plt.contour(xx1, xx2, objective, levels=[optimal_level], colors='red', linestyles='solid', linewidths=2)\n",
    "plt.text(-0.3, -2.2, 'Courbe de niveau optimale', color='red', fontsize=12, fontweight = 'bold')\n",
    "\n",
    "# Ajout du point optimal\n",
    "x_optimal = result.x\n",
    "plt.plot(x_optimal[0], x_optimal[1], 'ro', label=r'Point optimal $x^\\star$')\n",
    "plt.text(x_optimal[0]-0.05,x_optimal[1]-0.05, '(%1.2f, %1.2f)'%(x_optimal[0],x_optimal[1]),\n",
    "         color='red', fontsize=12, fontweight = 'bold', ha='right')\n",
    "\n",
    "# Labels et titre\n",
    "plt.xlabel('$x_1$')\n",
    "plt.ylabel('$x_2$')\n",
    "plt.title('Courbe de niveau optimale et point optimal')\n",
    "plt.grid(True)\n",
    "plt.xlim([-2.5, 2.5])\n",
    "plt.ylim([-2.5, 2.5])\n",
    "plt.axhline(0, color='black',linewidth=0.5)\n",
    "plt.axvline(0, color='black',linewidth=0.5)\n",
    "plt.legend(loc='best',fontsize=14)\n",
    "plt.show()"
   ]
  },
  {
   "cell_type": "markdown",
   "id": "112c8048",
   "metadata": {},
   "source": [
    "## Problème jouet 2 : Minimisation d'une fonction quadratique sous contrainte linéaire avec `cvxopt`\n",
    "\n",
    "Dans l'exercice précédent, le problème d'optimisation à résoudre était de classe QCQP. Les programmes QCQP sont en effet des cas particuliers de [programmation semi-définie (SDP)](https://fr.wikipedia.org/wiki/Optimisation_SDP) ou de programmation en cône, et `cvxopt` peut les résoudre. Cependant, la résolution des QCQP implique des manipulations et des reformulations loin d'être triviales de prime abord pour adapter le problème à l'interface de `cvxopt`, et qui sont largement hors du périmètre de ce TP.\n",
    "\n",
    "On se réfugie donc ici vers la résolution d'un problème QP (_quadratic programming_), où la fonction objective peut être quadratique, mais les contraintes restent toutes linéaires. Puisque c'est aussi la classe à laquelle appartient le SVM, cette simplification n'empêchera en rien la bonne tenue de la suite du TP (ouf).\n",
    "\n",
    "### Nouveau problème QP\n",
    "\n",
    "On considère ici le programme quadratique suivant : \n",
    "\n",
    "$$\\begin{align}\n",
    "\\min_{\\mathbf{x} \\in \\mathbb{R}^2} \\quad & f(\\mathbf{x}) = 3x_1^2 + x_2^2 \\\\\n",
    "\\text{tel que} \\quad & g(\\mathbf{x}) = 2x_1 + x_2 \\geq 4\n",
    "\\end{align}\n",
    "$$\n",
    "\n",
    "La fonction objective est bien quadratique ✅, et la contrainte d'inégalité est bien linéaire ✅, c'est donc bien un problème QP."
   ]
  },
  {
   "cell_type": "markdown",
   "id": "117cea5b",
   "metadata": {},
   "source": [
    "### Visualisation du lieu admissible\n",
    "\n",
    "Avant toute chose, commençons par visualiser le problème en traçant le lieu admissible et des courbes de niveau de la fonction objective. "
   ]
  },
  {
   "cell_type": "code",
   "execution_count": null,
   "id": "acc95798",
   "metadata": {},
   "outputs": [],
   "source": [
    "# Définition de la grille\n",
    "xx1 = np.linspace(-3, 3, 400)\n",
    "xx2 = np.linspace(-3, 3, 400)\n",
    "xx1, xx2 = np.meshgrid(xx1, xx2)\n",
    "\n",
    "# Définition de la fonction objective\n",
    "objective = 3*xx1**2 + xx2**2\n",
    "\n",
    "# Définition de la contrainte linéaire\n",
    "constraint = 2*xx1 + xx2\n",
    "\n",
    "# Tracé du lieu admissible\n",
    "plt.figure(figsize=(7, 7))\n",
    "plt.contourf(xx1, xx2, constraint, levels=[4, np.inf], colors=['gray', 'white'], alpha=0.5)\n",
    "plt.contour(xx1, xx2, constraint, levels=[4], colors='black')\n",
    "plt.text(1, 2, 'Lieu admissible', color='black', fontsize=14, fontweight = 'bold')\n",
    "\n",
    "# Tracé des lignes de niveau de la fonction objective\n",
    "plt.contour(xx1, xx2, objective, levels=np.linspace(0, 30, 15), cmap='viridis', linestyles='dashed')\n",
    "\n",
    "# Ajout de la légende\n",
    "labels = ['Courbes de niveau de la fonction objective']\n",
    "handles = [plt.Line2D([0], [0], linestyle='dashed', color='purple')]\n",
    "plt.legend(handles, labels, loc='upper right', fontsize=12)\n",
    "# Labels et titre\n",
    "plt.xlabel('$x_1$')\n",
    "plt.ylabel('$x_2$')\n",
    "plt.title('Lieu admissible et courbes de niveau de la fonction objective')\n",
    "plt.grid(True)\n",
    "plt.show()"
   ]
  },
  {
   "cell_type": "code",
   "execution_count": null,
   "id": "e3f15687",
   "metadata": {},
   "outputs": [],
   "source": [
    "import cvxopt\n",
    "from cvxopt import printing\n",
    "cvxopt.matrix_repr = printing.matrix_str_default\n",
    "from cvxopt import matrix\n",
    "from cvxopt.solvers import qp"
   ]
  },
  {
   "cell_type": "markdown",
   "id": "8aa605d9",
   "metadata": {},
   "source": [
    "### Résolution du problème jouet avec `cvxopt`\n",
    "\n",
    "La bibliothèque `cvxopt` est un outil puissant pour résoudre des problèmes d'optimisation convexe en Python. Elle est particulièrement adaptée aux problèmes de programmation linéaire, quadratique, semi-définie ou en cône, offrant une interface flexible et efficace pour formuler et résoudre ces problèmes.\n",
    "\n",
    "Pour plus de détails sur l'utilisation de `cvxopt`, les fonctions disponibles et des exemples d'application, vous êtes invités à consulter la [documentation officielle de `cvxopt`](https://cvxopt.org/documentation/)."
   ]
  },
  {
   "cell_type": "markdown",
   "id": "45b319e9",
   "metadata": {},
   "source": [
    "#### Format des matrices dans `cvxopt`\n",
    "\n",
    "`cvxopt` utilise un format spécifique de matrice pour représenter les paramètres des fonctions objectives et de contraintes, via sa propre classe [`matrix`](https://cvxopt.org/userguide/matrices.html). En première approximation, elle s'utilise comme un `np.array` pour l'instanciation :\n",
    "```python\n",
    "from cvxopt import matrix\n",
    "\n",
    "# Création d'une matrice 2x2\n",
    "A = matrix([[1.0, 2.0], [3.0, 4.0]])\n",
    "```\n",
    "\n",
    "La conversion d'un `np.array` en `matrix` se fait également très simplement :\n",
    "```python\n",
    "# Conversion d'un np.array en matrix\n",
    "A = np.array([[1.0, 2.0], [3.0, 4.0]])\n",
    "B = matrix(A)\n",
    "```\n",
    "\n",
    "Et la conversion en sens inverse également:\n",
    "```python\n",
    "# Conversion d'un np.array en matrix\n",
    "A = matrix([[1.0, 2.0], [3.0, 4.0]])\n",
    "B = np.array(A)\n",
    "```\n",
    "Bref, aucune raison de vous laisser déstabiliser par le format `matrix` de `cvxopt` 😉"
   ]
  },
  {
   "cell_type": "markdown",
   "id": "e5c90713",
   "metadata": {},
   "source": [
    "#### Le solveur des problèmes QP de `cvxopt`\n",
    "\n",
    "La fonction `qp` de `cvxopt.solvers` est utilisée pour résoudre les problèmes de programmation quadratique. Comme l'explique la [documentation](https://cvxopt.org/userguide/coneprog.html#cvxopt.solvers.qp), c'est en fait une interface vers une fonction plus générale (`coneqp`, qui permet elle de résoudre des problèmes plus généraux que QP).\n",
    "\n",
    "La forme standard d'un problème QP pour le solveur `qp` est la suivante :\n",
    "\n",
    "$$\n",
    "\\begin{aligned}\n",
    "& \\text{minimiser} & \\frac{1}{2} \\mathbf{x}^T \\mathbf{P} \\mathbf{x} + \\mathbf{q}^T \\mathbf{x} \\\\\n",
    "& \\text{sous les contraintes} & \\mathbf{G}\\mathbf{x} \\leq \\mathbf{h} \\\\\n",
    "& & \\mathbf{A}\\mathbf{x} = \\mathbf{b}\n",
    "\\end{aligned}\n",
    "$$\n",
    "\n",
    "où :\n",
    "- $\\mathbf{P}$ est une matrice symétrique définie positive.\n",
    "- $\\mathbf{q}$ est un vecteur.\n",
    "- $\\mathbf{G}$ et $\\mathbf{h}$ définissent les contraintes d'inégalité.\n",
    "- $\\mathbf{A}$ et $\\mathbf{b}$ définissent les contraintes d'égalité.\n",
    "\n",
    "Ainsi, contrairement au solveur `minimize` de `scipy.optimize` qui permet (en théorie) de résoudre _n'importe_ quel problème d'optimisation via la manière dont sont définies les fonctions objectives et de contraintes, le solveur `qp` de `cvxopt.solvers` ne permet de résoudre que les problèmes d'optimisation qui s'écrivent sous la forme ci-dessus (c'est-à-dire les problèmes QP). Ceux-ci sont parfaitement déterminés par les définitions des matrices $\\mathbf{P}$, $\\mathbf{G}$, $\\mathbf{A}$ et des vecteurs $\\mathbf{q}, \\mathbf{g}, \\mathbf{b}$.\n",
    "\n",
    "À noter que ces matrices et vecteurs doivent être définis via la classe `matrix` de `cvxopt`"
   ]
  },
  {
   "cell_type": "markdown",
   "id": "33afbd41",
   "metadata": {},
   "source": [
    "#### Format du résultat de `cvxopt.solvers.qp`\n",
    "\n",
    "Les différents solveurs de `cvxopt.solvers` (dont `qp`) retournent un résultat sous la forme d'un dictionnaire Python contenant plusieurs informations importantes sur la solution trouvée. Les principaux éléments de ce dictionnaire sont :\n",
    "\n",
    "- **`x`** : Un vecteur (de type `matrix`) contenant la variable primale optimale. Par exemple, un vecteur de taille $(2 \\times 1)$ pour un problème avec une variable primale $\\mathbf{x} \\in \\mathbb{R}^2$.\n",
    "- **`y`** : Un vecteur (de type `matrix`) contenant les variables duales (multiplicateurs de Lagrange) associées aux contraintes d'égalité (vide s'il n'y a pas de contraintes d'égalité).\n",
    "- **`z`** : Un vecteur (de type `matrix`) contenant les variables duales (multiplicateurs de Lagrange) associées aux contraintes d'inégalité (vide s'il n'y a pas de contraintes d'inégalité).\n",
    "- **`s`** : Un vecteur (de type `matrix`) contenant la valeur des variables de relâchement (_slack variables_) dans les contraintes d'inégalités (⚠️ ce n'est pas une variable duale en soit).\n",
    "- **`status`** : Un indicateur du statut de l'optimisation. En ce qui nous concerne, on espère y voir `'optimal'`, ce qui indiquerait que le problème a bien été résolu et qu'une solution optimale a été trouvée par le solveur.\n",
    "- **`gap`** : Le saut de dualité $p^\\star - d^\\star$, idéalement égal à 0.\n",
    "- **`primal objective`** : La valeur optimale $p^\\star$ de la fonction objective (primale).\n",
    "- **`dual objective`** : La valeur optimale $d^\\star$ de la fonction objective duale.\n",
    "- **`iterations`** : Le nombre d'itérations effectuées par l'algorithme pour converger à la solution optimale.\n",
    "\n",
    "Voici un exemple d'utilisation pour accéder à ces attributs après l'optimisation :\n",
    "\n",
    "```python\n",
    "# Résolution du problème\n",
    "result = solvers.qp(P, q, G, h) # Si non mentionnées dans les arguments du solveur, les contraintes d'égalité A et b (ou d'inégalité G et h) sont implicitement définies comme étant égales à 0.\n",
    "\n",
    "# Affichage des résultats\n",
    "print(\"Point optimal :\", result['x'])\n",
    "print(\"Valeur optimale de la fonction objective :\", result['primal objective'])\n",
    "print(\"Variables duales des contraintes d'égalité :\", result['y'])\n",
    "print(\"Variables duales des contraintes d'inégalité :\", result['z'])\n",
    "print(\"Succès de l'optimisation :\", result['status'])\n",
    "print(\"Nombre d'itérations :\", result['iterations'])\n"
   ]
  },
  {
   "cell_type": "markdown",
   "id": "fefe10f5",
   "metadata": {},
   "source": [
    "### 🛠️ 🚧 👷  À vous de jouer !\n",
    "\n",
    "Utilisez le solveur `qp` pour résoudre numériquement le problème d'optimisation QP :\n",
    "\n",
    "$$\\begin{align}\n",
    "\\min_{\\mathbf{x} \\in \\mathbb{R}^2} \\quad & f(\\mathbf{x}) = 3x_1^2 + x_2^2 \\\\\n",
    "\\text{tel que} \\quad & g(\\mathbf{x}) = 2x_1 + x_2 \\geq 4\n",
    "\\end{align}\n",
    "$$\n",
    "\n",
    "\n",
    "⚠️ Il vous faut évidemment le mettre d'abord sous la forme standard attendue par `qp` $$\n",
    "\\begin{aligned}\n",
    "& \\text{minimiser} & \\frac{1}{2} \\mathbf{x}^T \\mathbf{P} \\mathbf{x} + \\mathbf{q}^T \\mathbf{x} \\\\\n",
    "& \\text{sous les contraintes} & \\mathbf{G}\\mathbf{x} \\leq \\mathbf{h} \\\\\n",
    "& & \\mathbf{A}\\mathbf{x} = \\mathbf{b}\n",
    "\\end{aligned}\n",
    "$$\n",
    "pour identifier les différentes matrices et vecteurs du problème à résoudre ici. ⚠️ Pensez à bien les définir au format `matrix`."
   ]
  },
  {
   "cell_type": "code",
   "execution_count": null,
   "id": "7ba6ef6e",
   "metadata": {},
   "outputs": [],
   "source": [
    "# définition des matrices du problème QP\n",
    "P = ??? # FIXME ⚠️\n",
    "q = ??? # FIXME ⚠️\n",
    "G = ??? # FIXME ⚠️\n",
    "h = ??? # FIXME ⚠️\n",
    "A = ??? # FIXME ⚠️\n",
    "b = ??? # FIXME ⚠️"
   ]
  },
  {
   "cell_type": "code",
   "execution_count": null,
   "id": "ee786835",
   "metadata": {},
   "outputs": [],
   "source": [
    "result = ??? # FIXME ⚠️\n",
    "\n",
    "# Affichage des résultats\n",
    "print(\"Point optimal :\", result['x'])\n",
    "print(\"Valeur optimale de la fonction objective :\", result['primal objective'])\n",
    "print(\"Variables duales des contraintes d'égalité :\", result['y'])\n",
    "print(\"Variables duales des contraintes d'inégalité :\", result['z'])\n",
    "print(\"Succès de l'optimisation :\", result['status'])\n",
    "print(\"Nombre d'itérations :\", result['iterations'])"
   ]
  },
  {
   "cell_type": "markdown",
   "id": "afe9ebee",
   "metadata": {},
   "source": [
    "### Un deuxième beau dessin\n",
    "\n",
    "On complète ici la figure précédente de visualisation des courbes de niveau de la fonction objective et du lieu admissible avec la courbe de niveau optimale de la fonction objective et le point optimal, tous deux calculés par `cvxopt` dans les cellules précédentes."
   ]
  },
  {
   "cell_type": "code",
   "execution_count": null,
   "id": "b46eb70c",
   "metadata": {},
   "outputs": [],
   "source": [
    "# Définition de la grille\n",
    "xx1 = np.linspace(-2, 3, 400)\n",
    "xx2 = np.linspace(-2, 3, 400)\n",
    "xx1, xx2 = np.meshgrid(xx1, xx2)\n",
    "\n",
    "# Définition de la fonction objective\n",
    "objective = 3*xx1**2 + xx2**2\n",
    "\n",
    "# Définition de la contrainte linéaire\n",
    "constraint = 2*xx1 + xx2\n",
    "\n",
    "# Tracé du lieu admissible\n",
    "plt.figure(figsize=(7, 7))\n",
    "plt.contourf(xx1, xx2, constraint, levels=[4, np.inf], colors=['gray', 'white'], alpha=0.5)\n",
    "plt.contour(xx1, xx2, constraint, levels=[4], colors='black')\n",
    "plt.text(1.25, 2.5, 'Lieu admissible', color='black', fontsize=14, fontweight = 'bold')\n",
    "\n",
    "# Tracé des lignes de niveau de la fonction objective\n",
    "plt.contour(xx1, xx2, objective, levels=np.linspace(0, 64, 24), cmap='viridis', linestyles='dashed')\n",
    "\n",
    "# Récupération du point optimal et de la valeur optimale de cvxopt\n",
    "optimal_point = np.array(result['x'])\n",
    "optimal_value = np.array(result['primal objective'])\n",
    "\n",
    "# Ajout de la ligne de niveau optimale\n",
    "plt.contour(xx1, xx2, objective, levels=[optimal_value], colors='red', linewidths=3)\n",
    "# Ajout du point optimal\n",
    "plt.plot(optimal_point[0], optimal_point[1], 'ro', label='Point optimal',markersize=8)\n",
    "\n",
    "# Ajout de la légende\n",
    "labels = ['Courbes de niveau de la fonction objective',\n",
    "          'Courbe de niveau optimal',\n",
    "          'Point optimal']\n",
    "handles = [plt.Line2D([0], [0], linestyle='dashed', color='purple'),\n",
    "           plt.Line2D([0], [0], linestyle='solid', color='red'),\n",
    "           plt.Line2D([0], [0], linestyle='none', marker='o', color='red')]\n",
    "plt.legend(handles, labels, loc='lower right', fontsize=12)\n",
    "# Labels et titre\n",
    "plt.xlabel('$x_1$')\n",
    "plt.ylabel('$x_2$')\n",
    "plt.title('Lieu admissible et courbes de niveau de la fonction objective')\n",
    "plt.grid(True)\n",
    "plt.show()"
   ]
  },
  {
   "cell_type": "markdown",
   "id": "c5b757c1",
   "metadata": {},
   "source": [
    "## Bravo ! 👏🍻\n",
    "\n",
    "Vous en avez terminé avec cet exercice de prise en main des solveurs de `scipy` et `cvxopt` ! Il est maintenant temps de s'attaquer à un problème un peu plus trapu : le [SVM à marge dure](TP_SVM_exo2.ipynb) !"
   ]
  }
 ],
 "metadata": {
  "kernelspec": {
   "display_name": "Python 3 (ipykernel)",
   "language": "python",
   "name": "python3"
  },
  "language_info": {
   "codemirror_mode": {
    "name": "ipython",
    "version": 3
   },
   "file_extension": ".py",
   "mimetype": "text/x-python",
   "name": "python",
   "nbconvert_exporter": "python",
   "pygments_lexer": "ipython3",
   "version": "3.9.2"
  }
 },
 "nbformat": 4,
 "nbformat_minor": 5
}
