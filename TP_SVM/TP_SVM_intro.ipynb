{
 "cells": [
  {
   "cell_type": "markdown",
   "id": "b5768b8d",
   "metadata": {},
   "source": [
    "Guillaume Tochon <br>\n",
    "TP OCVX2 <br>\n",
    "Promo IMAGE 2025 <br>"
   ]
  },
  {
   "cell_type": "markdown",
   "id": "f90a5941",
   "metadata": {},
   "source": [
    "# Introduction générale\n",
    "\n",
    "L'objectif de ce TP est de vous familiariser avec deux solveurs classiques d'optimisation en Python, à savoir `scipy` et `cvxopt`. En tant que (futurs) ingénieurs en informatique, il n'est pas attendu de vous que vous sachiez réimplémenter tous les algorithmes d'optimisation existants (laissons ça aux étudiants du Master MVA (encore faut-il qu'ils soient capable d'écrire deux lignes de code `/s`)). Il est par contre essentiel pour vous de savoir utiliser des outils/bibliothèques robustes et efficaces pour résoudre des problèmes complexes, tout en se concentrant sur l'application et l'interprétation des résultats.\n",
    "Les Support Vector Machines (SVM) offrent un terrain de jeu idéal pour cela.\n",
    "\n",
    "### Pourquoi utiliser des solveurs ?\n",
    "\n",
    "- **Efficacité** : Les solveurs comme ceux de `scipy` et `cvxopt` sont optimisés pour résoudre des problèmes complexes rapidement.\n",
    "- **Fiabilité** : Ces outils sont largement utilisés et testés dans la communauté scientifique, garantissant des solutions fiables et précises.\n",
    "- **Facilité d'utilisation** : Ils offrent des interfaces simples et (relativement) intuitives, permettant de se concentrer sur la modélisation du problème plutôt que sur les détails de l'implémentation algorithmique.\n",
    "\n",
    "### Objectifs spécifiques\n",
    "\n",
    "- **Prendre en main [`scipy.optimize.minimize`](https://docs.scipy.org/doc/scipy/reference/generated/scipy.optimize.minimize.html) et le package [`cvxopt`](https://cvxopt.org/documentation/)** : Avant de plonger dans la résolution du SVM, vous allez commencer par un problème \"simple\", déjà traité en exercice pendant le cours, pour comprendre le fonctionnement de ces outils.\n",
    "- **Résoudre le problème dual du SVM** : Comme vu en cours, nous utiliserons ces solveurs pour aborder la résolution du SVM, en commençant par le SVM à marge dure (Hard Margin SVM), puis en explorant le SVM à marge souple (Soft Margin SVM).\n",
    "\n",
    "Commençons par la [prise en main des solveurs avec un problème d'optimisation jouet](TP_SVM_exo1.ipynb)."
   ]
  }
 ],
 "metadata": {
  "kernelspec": {
   "display_name": "Python 3 (ipykernel)",
   "language": "python",
   "name": "python3"
  },
  "language_info": {
   "codemirror_mode": {
    "name": "ipython",
    "version": 3
   },
   "file_extension": ".py",
   "mimetype": "text/x-python",
   "name": "python",
   "nbconvert_exporter": "python",
   "pygments_lexer": "ipython3",
   "version": "3.9.2"
  }
 },
 "nbformat": 4,
 "nbformat_minor": 5
}
