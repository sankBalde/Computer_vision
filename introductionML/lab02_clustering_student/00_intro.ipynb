{
 "cells": [
  {
   "cell_type": "markdown",
   "metadata": {},
   "source": [
    "EPITA 2023 IML lab02_clustering_00_intro v2023-03-27_103403 by G. Tochon & J. Chazalon\n",
    "\n",
    "<div style=\"overflow: auto; padding: 10px; margin: 10px 0px\">\n",
    "<img alt=\"Creative Commons License\" src='img/CC-BY-4.0.png' style='float: left; margin-right: 20px'>\n",
    "    \n",
    "This work is licensed under a [Creative Commons Attribution 4.0 International License](http://creativecommons.org/licenses/by/4.0/).\n",
    "</div>"
   ]
  },
  {
   "cell_type": "markdown",
   "metadata": {},
   "source": [
    "# Lab 2: Clustering\n",
    "\n",
    "This session illustrates clutering (un/self-supervised classification) notions.\n",
    "\n",
    "\n",
    "## Goals\n",
    "\n",
    "- Understand the K-Means algorithm and re-implement it.\n",
    "- Use clustering to reduce the number of colors in an image by constructing a color palette.\n",
    "- Use clustering to segment images.\n",
    "- Understand and reimplement part of the EM algorithm used to train a GMM.\n",
    "- And of course, practice with Numpy and other Python tools.\n",
    "\n",
    "\n",
    "## Parts\n",
    "\n",
    "1. [K-Means reimplementation](01-kmeans.ipynb) 👈 *You have to complete this one.*\n",
    "2. [Color quantization using clustering](02-color-quantization.ipynb) 👈 *This one too.*\n",
    "3. [Image segmentation using clustering](03-segmentation.ipynb)\n",
    "4. [EM reimplementation for GMM training](04-EM-GMM.ipynb)\n",
    "\n",
    "\n",
    "## What you need to do\n",
    "Make sure you read and understand everything, and complete all the required actions.\n",
    "**Required actions** are preceded by the following sign:\n",
    "![Work](img/work.png)"
   ]
  },
  {
   "cell_type": "markdown",
   "metadata": {},
   "source": [
    "# Let's get started!\n",
    "Now you're ready to move on to the next stage."
   ]
  }
 ],
 "metadata": {
  "kernelspec": {
   "display_name": "Python 3 (ipykernel)",
   "language": "python",
   "name": "python3"
  },
  "language_info": {
   "codemirror_mode": {
    "name": "ipython",
    "version": 3
   },
   "file_extension": ".py",
   "mimetype": "text/x-python",
   "name": "python",
   "nbconvert_exporter": "python",
   "pygments_lexer": "ipython3",
   "version": "3.10.6"
  },
  "varInspector": {
   "cols": {
    "lenName": 16,
    "lenType": 16,
    "lenVar": 40
   },
   "kernels_config": {
    "python": {
     "delete_cmd_postfix": "",
     "delete_cmd_prefix": "del ",
     "library": "var_list.py",
     "varRefreshCmd": "print(var_dic_list())"
    },
    "r": {
     "delete_cmd_postfix": ") ",
     "delete_cmd_prefix": "rm(",
     "library": "var_list.r",
     "varRefreshCmd": "cat(var_dic_list()) "
    }
   },
   "types_to_exclude": [
    "module",
    "function",
    "builtin_function_or_method",
    "instance",
    "_Feature"
   ],
   "window_display": false
  }
 },
 "nbformat": 4,
 "nbformat_minor": 2
}
