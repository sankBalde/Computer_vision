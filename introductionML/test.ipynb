{
 "cells": [
  {
   "cell_type": "code",
   "execution_count": 1,
   "id": "initial_id",
   "metadata": {
    "collapsed": true,
    "ExecuteTime": {
     "end_time": "2024-04-23T01:03:37.361705Z",
     "start_time": "2024-04-23T01:03:36.737178Z"
    }
   },
   "outputs": [
    {
     "name": "stdout",
     "output_type": "stream",
     "text": [
      "Faux : Le critère d'Armijo n'est pas satisfait pour eta = 0.5\n"
     ]
    }
   ],
   "source": [
    "import numpy as np\n",
    "\n",
    "# Définition des variables\n",
    "A = np.array([[3, -1], [-1, 2]])\n",
    "b = np.array([1, -1])\n",
    "c = 2\n",
    "x = np.array([-1, -1])\n",
    "alpha = 0.5\n",
    "\n",
    "# Calcul du gradient de f(x)\n",
    "def gradient_f(x):\n",
    "    return 2 * np.dot(A, x) + b\n",
    "\n",
    "# Valeur de la fonction f au point x\n",
    "def f(x):\n",
    "    return 0.5 * np.dot(x, np.dot(A, x)) + np.dot(b, x) + c\n",
    "\n",
    "# Direction de descente d = -∇f(x)\n",
    "d = -gradient_f(x)\n",
    "\n",
    "# Calcul de f(x) et f(x + alpha * d)\n",
    "fx = f(x)\n",
    "fx_alpha = f(x + alpha * d)\n",
    "\n",
    "# Paramètres du critère d'Armijo\n",
    "c1 = 0.5  # Coefficient d'atténuation de pente\n",
    "\n",
    "# Vérification du critère d'Armijo\n",
    "if fx_alpha <= fx + c1 * alpha * np.dot(gradient_f(x), d):\n",
    "    print(\"Vrai : Le critère d'Armijo est satisfait pour eta = 0.5\")\n",
    "else:\n",
    "    print(\"Faux : Le critère d'Armijo n'est pas satisfait pour eta = 0.5\")\n"
   ]
  },
  {
   "cell_type": "code",
   "execution_count": 2,
   "outputs": [
    {
     "name": "stdout",
     "output_type": "stream",
     "text": [
      "Plus grande valeur propre de A (lambda_max) : 7.0\n",
      "Valeur maximale du pas (eta_max) pour garantir la convergence : 0.14285714285714285\n"
     ]
    }
   ],
   "source": [
    "import numpy as np\n",
    "\n",
    "# Définition de la matrice A et du vecteur b\n",
    "A = np.array([[5, 3, 2], [-3, 4, -3], [2, -3, 5]])\n",
    "b = np.array([1, -1, 2])\n",
    "\n",
    "# Calcul des valeurs propres de la matrice A\n",
    "eigenvalues, _ = np.linalg.eig(A)\n",
    "\n",
    "# Trouver la plus grande valeur propre (lambda_max)\n",
    "lambda_max = np.max(eigenvalues)\n",
    "\n",
    "# Calculer la valeur maximale du pas (eta) pour garantir la convergence\n",
    "eta_max = 1 / lambda_max\n",
    "\n",
    "print(\"Plus grande valeur propre de A (lambda_max) :\", lambda_max)\n",
    "print(\"Valeur maximale du pas (eta_max) pour garantir la convergence :\", eta_max)\n"
   ],
   "metadata": {
    "collapsed": false,
    "ExecuteTime": {
     "end_time": "2024-04-23T01:15:31.638855Z",
     "start_time": "2024-04-23T01:15:31.617078Z"
    }
   },
   "id": "b946a818123985c8"
  },
  {
   "cell_type": "code",
   "execution_count": null,
   "outputs": [],
   "source": [],
   "metadata": {
    "collapsed": false
   },
   "id": "e0ff1bc71e30f000"
  }
 ],
 "metadata": {
  "kernelspec": {
   "display_name": "Python 3",
   "language": "python",
   "name": "python3"
  },
  "language_info": {
   "codemirror_mode": {
    "name": "ipython",
    "version": 2
   },
   "file_extension": ".py",
   "mimetype": "text/x-python",
   "name": "python",
   "nbconvert_exporter": "python",
   "pygments_lexer": "ipython2",
   "version": "2.7.6"
  }
 },
 "nbformat": 4,
 "nbformat_minor": 5
}
