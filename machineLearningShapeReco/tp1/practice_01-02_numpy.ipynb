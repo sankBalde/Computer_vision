{
 "cells": [
  {
   "attachments": {},
   "cell_type": "markdown",
   "metadata": {},
   "source": [
    "EPITA 2024 MLRF practice_01-02_numpy v2024-04-18_224843 by Joseph CHAZALON\n",
    "\n",
    "<div style=\"overflow: auto; padding: 10px; margin: 10px 0px\">\n",
    "<img alt=\"Creative Commons License\" src='img/CC-BY-4.0.png' style='float: left; margin-right: 20px'>\n",
    "    \n",
    "This work is licensed under a [Creative Commons Attribution 4.0 International License](http://creativecommons.org/licenses/by/4.0/).\n",
    "</div>"
   ]
  },
  {
   "cell_type": "markdown",
   "metadata": {},
   "source": [
    "# Practice session 1 part 2: NumPy-Fu\n",
    "\n",
    "Make sure you read and understand everything, and complete all the required actions.\n",
    "**Required actions** are preceded by the following sign:\n",
    "![Back to work!](img/work.png)"
   ]
  },
  {
   "cell_type": "markdown",
   "metadata": {},
   "source": [
    "## Preliminary checks\n",
    "\n",
    "Perform a couple checks…"
   ]
  },
  {
   "cell_type": "code",
   "execution_count": null,
   "metadata": {},
   "outputs": [],
   "source": [
    "# deactivate buggy jupyter completion\n",
    "%config Completer.use_jedi = False"
   ]
  },
  {
   "cell_type": "code",
   "execution_count": null,
   "metadata": {},
   "outputs": [],
   "source": [
    "# Make sure we use Python 3\n",
    "import sys\n",
    "if sys.version_info.major != 3:\n",
    "    print(\"ERROR: not using Python 3.x\")\n",
    "else:\n",
    "    print(\"Great! We're using Python version %s\" % sys.version)"
   ]
  },
  {
   "cell_type": "markdown",
   "metadata": {},
   "source": [
    "## Import the required modules\n",
    "Notice the **line magic** used to configure how matplotlib output is rendered."
   ]
  },
  {
   "cell_type": "code",
   "execution_count": null,
   "metadata": {},
   "outputs": [],
   "source": [
    "import numpy as np\n",
    "import matplotlib.pyplot as plt\n",
    "%matplotlib inline"
   ]
  },
  {
   "cell_type": "markdown",
   "metadata": {},
   "source": [
    "\n",
    "## NumPy crash course\n",
    "NumPy allows you to manipulate n-dimensional arrays (representing matrices, tensors, images…) with a very simple syntax."
   ]
  },
  {
   "cell_type": "markdown",
   "metadata": {},
   "source": [
    "### Array creation (1/3)\n",
    "Here are some examples of array creation:"
   ]
  },
  {
   "cell_type": "code",
   "execution_count": null,
   "metadata": {},
   "outputs": [],
   "source": [
    "# Initialize from a sequence\n",
    "a1 = np.array([1, 2, 3])\n",
    "a1"
   ]
  },
  {
   "cell_type": "code",
   "execution_count": null,
   "metadata": {},
   "outputs": [],
   "source": [
    "# Array have arbitrary dimensions…\n",
    "a2 = np.array([[[ 0,  1], [ 2,  3], [ 4,  5]],\n",
    "               [[ 6,  7], [ 8,  9], [10, 11]]])\n",
    "a2"
   ]
  },
  {
   "cell_type": "code",
   "execution_count": null,
   "metadata": {},
   "outputs": [],
   "source": [
    "#…but they need to be consistent\n",
    "a3 = np.array([[[ 0,  1], [ 2,  3], [ 4,  5]],\n",
    "               [[ 6,  7], [ 8,  9], [10, 11, 13]]])\n",
    "a3"
   ]
  },
  {
   "cell_type": "markdown",
   "metadata": {},
   "source": [
    "<div style=\"overflow: auto; border-style: solid; border-color: red; border-width: 1px; padding: 10px; margin: 10px 0px\">\n",
    "<img alt=\"stop\" src='img/stop.png' style='float: left; margin-right: 20px'>\n",
    "    \n",
    "The previous object was created but contains very strange content…\n",
    "</div>"
   ]
  },
  {
   "cell_type": "markdown",
   "metadata": {},
   "source": [
    "### `shape` and `dtype`\n",
    "Shape and content (data) type are two very important properties to check for arrays."
   ]
  },
  {
   "cell_type": "code",
   "execution_count": null,
   "metadata": {},
   "outputs": [],
   "source": [
    "a1.shape, a1.dtype"
   ]
  },
  {
   "cell_type": "code",
   "execution_count": null,
   "metadata": {},
   "outputs": [],
   "source": [
    "a2.shape, a2.dtype"
   ]
  },
  {
   "cell_type": "code",
   "execution_count": null,
   "metadata": {},
   "outputs": [],
   "source": [
    "a3.shape, a3.dtype"
   ]
  },
  {
   "cell_type": "markdown",
   "metadata": {},
   "source": [
    "### Array creation (2/3)"
   ]
  },
  {
   "cell_type": "markdown",
   "metadata": {},
   "source": [
    "<div style=\"overflow: auto; border-style: dotted; border-width: 1px; padding: 10px; margin: 10px 0px\">\n",
    "<img alt=\"work\" src='img/work.png' style='float: left; margin-right: 20px'>\n",
    "\n",
    "**Now try to create some arrays of different types (integers, floating-point numbers, booleans, complex numbers) and shapes.**\n",
    "</div>\n",
    "\n",
    "Do not hesitate to check:\n",
    "- the [online refence](https://docs.scipy.org/doc/numpy-1.16.1/reference/)\n",
    "- and the [user guide](https://docs.scipy.org/doc/numpy-1.16.1/user/basics.html)"
   ]
  },
  {
   "cell_type": "code",
   "execution_count": null,
   "metadata": {},
   "outputs": [],
   "source": [
    "# TODO create a couple of arrays"
   ]
  },
  {
   "cell_type": "markdown",
   "metadata": {},
   "source": [
    "<div style=\"overflow: auto; border-style: dotted; border-width: 1px; padding: 10px; margin: 10px 0px\">\n",
    "<img alt=\"work\" src='img/work.png' style='float: left; margin-right: 20px'>\n",
    "    \n",
    "**Now check the [documentation about array creation](https://docs.scipy.org/doc/numpy-1.16.1/reference/routines.array-creation.html) and try some other array creation routines.**\n",
    "</div>\n",
    "\n",
    "We recommand that you have a look at:\n",
    "- `zeros`\n",
    "- `zeros_like`\n",
    "- `ones`\n",
    "- `full`\n",
    "- `empty`\n",
    "- `eye`"
   ]
  },
  {
   "cell_type": "code",
   "execution_count": null,
   "metadata": {},
   "outputs": [],
   "source": [
    "test_shape = (2, 2)"
   ]
  },
  {
   "cell_type": "code",
   "execution_count": null,
   "metadata": {},
   "outputs": [],
   "source": [
    "np.zeros(test_shape)"
   ]
  },
  {
   "cell_type": "code",
   "execution_count": null,
   "metadata": {},
   "outputs": [],
   "source": [
    "# TODO try the other array creation routines"
   ]
  },
  {
   "cell_type": "code",
   "execution_count": null,
   "metadata": {},
   "outputs": [],
   "source": []
  },
  {
   "cell_type": "code",
   "execution_count": null,
   "metadata": {},
   "outputs": [],
   "source": []
  },
  {
   "cell_type": "markdown",
   "metadata": {},
   "source": [
    "A very important thing to note with NumPy is that native routines make use of optimized C code which is orders of magnitude faster than Python loops.\n",
    "\n",
    "**You should always try to avoid writing Python loops to access NumPy arrays, and you should rather try to find a native routine which does the task you are looking for.**"
   ]
  },
  {
   "cell_type": "markdown",
   "metadata": {},
   "source": [
    "<div style=\"overflow: auto; border-style: dotted; border-width: 1px; padding: 10px; margin: 10px 0px\">\n",
    "<img alt=\"work\" src='img/work.png' style='float: left; margin-right: 20px'>\n",
    "    \n",
    "**Benchmark the initialization time of some big array using a native routine vs using a `for` loop.**\n",
    "**Make sure you understand the differences between `%time`, `%%time`, `%timeit` and `%%timeit`.**\n",
    "</div>"
   ]
  },
  {
   "cell_type": "code",
   "execution_count": null,
   "metadata": {},
   "outputs": [],
   "source": [
    "# TODO manual initialization: complete this code\n",
    "size = 1024*1024\n",
    "a = np.empty(size)\n",
    "# for ii in range…\n",
    "# "
   ]
  },
  {
   "cell_type": "code",
   "execution_count": null,
   "metadata": {},
   "outputs": [],
   "source": [
    "# TODO numpy creation and optimized initialization\n",
    "a = np.empty(size)\n",
    "# a[?] = ?"
   ]
  },
  {
   "cell_type": "code",
   "execution_count": null,
   "metadata": {},
   "outputs": [],
   "source": [
    "# TODO numpy optimized creation and initialization\n",
    "# a = ??"
   ]
  },
  {
   "cell_type": "markdown",
   "metadata": {},
   "source": [
    "### Array creation (3/3)\n",
    "There are other very useful array creation routines to be aware of.\n",
    "Among my favorites are `arange` and `linspace`."
   ]
  },
  {
   "cell_type": "markdown",
   "metadata": {},
   "source": [
    "<div style=\"overflow: auto; border-style: dotted; border-width: 1px; padding: 10px; margin: 10px 0px\">\n",
    "<img alt=\"work\" src='img/work.png' style='float: left; margin-right: 20px'>\n",
    "    \n",
    "**Use iPython's magic `?` to display the documentation for each of those, and create two small arrays.**\n",
    "</div>"
   ]
  },
  {
   "cell_type": "code",
   "execution_count": null,
   "metadata": {},
   "outputs": [],
   "source": [
    "# TODO\n",
    "np.arange?"
   ]
  },
  {
   "cell_type": "code",
   "execution_count": null,
   "metadata": {},
   "outputs": [],
   "source": []
  },
  {
   "cell_type": "markdown",
   "metadata": {},
   "source": [
    "### Reshaping\n",
    "It is easy to change the shape of an array, as long as the new shape is compatible with the original one."
   ]
  },
  {
   "cell_type": "code",
   "execution_count": null,
   "metadata": {},
   "outputs": [],
   "source": [
    "a = np.arange(12)\n",
    "a.shape"
   ]
  },
  {
   "cell_type": "markdown",
   "metadata": {},
   "source": [
    "<div style=\"overflow: auto; border-style: dotted; border-width: 1px; padding: 10px; margin: 10px 0px\">\n",
    "<img alt=\"work\" src='img/work.png' style='float: left; margin-right: 20px'>\n",
    "    \n",
    "**Use `reshape(shape)` to give a new shape with 3 dimensions to this array `a`.**\n",
    "</div>"
   ]
  },
  {
   "cell_type": "code",
   "execution_count": null,
   "metadata": {},
   "outputs": [],
   "source": [
    "# TODO reshape"
   ]
  },
  {
   "cell_type": "code",
   "execution_count": null,
   "metadata": {},
   "outputs": [],
   "source": []
  },
  {
   "cell_type": "markdown",
   "metadata": {},
   "source": [
    "### Apply operations on arrays\n",
    "All the power of NumPy lies in how we apply operations on arrays.\n",
    "We can apply operations in 3 different ways:\n",
    "\n",
    "1. First as **array methods** like this:\n",
    "```python\n",
    "a = np.arange(3)\n",
    "a.max()\n",
    "```\n",
    "This technique is useful for operation which consider only the current array.\n",
    "\n",
    "\n",
    "2. Second by calling a NumPy operation on the array like this:\n",
    "```python\n",
    "a = np.linspace(0, 1, 10)\n",
    "np.cos(a)\n",
    "```\n",
    "This second technique is more suitable for mathematical operations which are not directly available as methods, and return an array of the same shape.\n",
    "\n",
    "3. Third simply by calling natural operations extended to arrays like this:\n",
    "```python\n",
    "a = np.arange(0, 3)\n",
    "b = np.arange(3, 6)\n",
    "a + b\n",
    "```"
   ]
  },
  {
   "cell_type": "markdown",
   "metadata": {},
   "source": [
    "<div style=\"overflow: auto; border-style: dotted; border-width: 1px; padding: 10px; margin: 10px 0px\">\n",
    "<img alt=\"work\" src='img/work.png' style='float: left; margin-right: 20px'>\n",
    "    \n",
    "**Experiment a couple of operations on arrays.**\n",
    "</div>"
   ]
  },
  {
   "cell_type": "code",
   "execution_count": null,
   "metadata": {},
   "outputs": [],
   "source": [
    "# TODO some operations on arrays"
   ]
  },
  {
   "cell_type": "code",
   "execution_count": null,
   "metadata": {},
   "outputs": [],
   "source": []
  },
  {
   "cell_type": "code",
   "execution_count": null,
   "metadata": {},
   "outputs": [],
   "source": []
  },
  {
   "cell_type": "markdown",
   "metadata": {},
   "source": [
    "### Indexing: access elements\n",
    "You can also access individual values of arrays using advanced slicing techniques:"
   ]
  },
  {
   "cell_type": "code",
   "execution_count": null,
   "metadata": {},
   "outputs": [],
   "source": [
    "aa = np.arange(3*2).reshape((3, 2))\n",
    "aa"
   ]
  },
  {
   "cell_type": "code",
   "execution_count": null,
   "metadata": {},
   "outputs": [],
   "source": [
    "aa[0]"
   ]
  },
  {
   "cell_type": "code",
   "execution_count": null,
   "metadata": {},
   "outputs": [],
   "source": [
    "aa[0][1]"
   ]
  },
  {
   "cell_type": "markdown",
   "metadata": {},
   "source": [
    "We can specify slices for each dimension."
   ]
  },
  {
   "cell_type": "code",
   "execution_count": null,
   "metadata": {},
   "outputs": [],
   "source": [
    "aa[0,1]"
   ]
  },
  {
   "cell_type": "code",
   "execution_count": null,
   "metadata": {},
   "outputs": [],
   "source": [
    "aa[1:3]"
   ]
  },
  {
   "cell_type": "code",
   "execution_count": null,
   "metadata": {},
   "outputs": [],
   "source": [
    "aa[:,1]"
   ]
  },
  {
   "cell_type": "code",
   "execution_count": null,
   "metadata": {},
   "outputs": [],
   "source": [
    "aa[::2,::-1]"
   ]
  },
  {
   "cell_type": "markdown",
   "metadata": {},
   "source": [
    "We can select multiple values using sequences of indexes, mixing [basic](https://docs.scipy.org/doc/numpy/reference/arrays.indexing.html#basic-slicing-and-indexing) and [advanced](https://docs.scipy.org/doc/numpy/reference/arrays.indexing.html#advanced-indexing) slicing and indexing."
   ]
  },
  {
   "cell_type": "code",
   "execution_count": null,
   "metadata": {},
   "outputs": [],
   "source": [
    "aa"
   ]
  },
  {
   "cell_type": "code",
   "execution_count": null,
   "metadata": {},
   "outputs": [],
   "source": [
    "aa[(0,0)]  # equivalent to aa[0,0]"
   ]
  },
  {
   "cell_type": "code",
   "execution_count": null,
   "metadata": {},
   "outputs": [],
   "source": [
    "aa[(1,1,2), 0]  # equivalent to aa[(1, 1, 2), (0, 0, 0)] because of broadcast\n",
    "                # selects aa[1,0], aa[1,0], aa[2,0]"
   ]
  },
  {
   "cell_type": "markdown",
   "metadata": {},
   "source": [
    "We can even add new axis on the fly:"
   ]
  },
  {
   "cell_type": "code",
   "execution_count": null,
   "metadata": {},
   "outputs": [],
   "source": [
    "bb = aa[:, 0, np.newaxis]\n",
    "bb.shape"
   ]
  },
  {
   "cell_type": "markdown",
   "metadata": {},
   "source": [
    "Note that `np.newaxis` is actually `None`, so you it is common to use `None` directly."
   ]
  },
  {
   "cell_type": "code",
   "execution_count": null,
   "metadata": {},
   "outputs": [],
   "source": [
    "np.newaxis"
   ]
  },
  {
   "cell_type": "code",
   "execution_count": null,
   "metadata": {},
   "outputs": [],
   "source": [
    "bb = aa[:, 0, None]\n",
    "bb.shape"
   ]
  },
  {
   "cell_type": "markdown",
   "metadata": {},
   "source": [
    "And you can create **masks** and apply them. This is **very powerful!**"
   ]
  },
  {
   "cell_type": "code",
   "execution_count": null,
   "metadata": {},
   "outputs": [],
   "source": [
    "aa = np.arange(10)\n",
    "mask = aa > 5\n",
    "mask"
   ]
  },
  {
   "cell_type": "code",
   "execution_count": null,
   "metadata": {},
   "outputs": [],
   "source": [
    "aa[mask]"
   ]
  },
  {
   "cell_type": "markdown",
   "metadata": {},
   "source": [
    "<div style=\"overflow: auto; border-style: dotted; border-width: 1px; padding: 10px; margin: 10px 0px\">\n",
    "<img alt=\"work\" src='img/work.png' style='float: left; margin-right: 20px'>\n",
    "    \n",
    "**Try to extract even numbers in the following `a` array.**\n",
    "</div>"
   ]
  },
  {
   "cell_type": "code",
   "execution_count": null,
   "metadata": {},
   "outputs": [],
   "source": [
    "a = np.array([[1, 0, 2], [3, 7, 9], [1, 0, 2], [3, 7, 9], [3, 7, 9]])\n",
    "a"
   ]
  },
  {
   "cell_type": "code",
   "execution_count": null,
   "metadata": {},
   "outputs": [],
   "source": [
    "# TODO correct this line\n",
    "a_extracted = a[:]"
   ]
  },
  {
   "cell_type": "code",
   "execution_count": null,
   "metadata": {},
   "outputs": [],
   "source": [
    "# Here is a test to check your result\n",
    "if np.all(a_extracted % 2 == 0):\n",
    "    print(\"Looks good!\")\n",
    "else:\n",
    "    print(\"Error.\")"
   ]
  },
  {
   "cell_type": "markdown",
   "metadata": {},
   "source": [
    "Make sure to read at least once in your life (no during this session though) [the page about NumPy indexing](https://docs.scipy.org/doc/numpy-1.16.1/user/basics.indexing.html)."
   ]
  },
  {
   "cell_type": "markdown",
   "metadata": {},
   "source": [
    "### Broadcasting\n",
    "Broadcasting is a very powerful concept in NumPy, and maybe its greatest strength.\n",
    "However, it takes times to master it and even then you sometimes get surprised.\n",
    "\n",
    "\n",
    "According to [the official documentation](https://docs.scipy.org/doc/numpy/user/basics.broadcasting.html):\n",
    "> The term broadcasting describes how numpy treats arrays with different shapes during arithmetic operations. Subject to certain constraints, the smaller array is “broadcast” across the larger array so that they have compatible shapes. Broadcasting provides a means of vectorizing array operations so that looping occurs in C instead of Python.\n",
    "\n",
    "It is easy to make use of broadcasting:\n",
    "- if you add two arrays, then you broadcast their values;\n",
    "- if you multiply an array by a scalar, you broadcast again;\n",
    "- and if you want to apply a look up table to an array, then you can perform it using broadcasting.\n",
    "Of course, those are only a few examples of what broadcasting makes possible.\n",
    "\n",
    "Let's have a look at some examples now.\n",
    "\n",
    "First NumPy operations are usually done element-by-element which requires two arrays to have exactly the same shape:"
   ]
  },
  {
   "cell_type": "code",
   "execution_count": null,
   "metadata": {},
   "outputs": [],
   "source": [
    "a = np.array([1, 2, 3])\n",
    "b = np.array([2, 2, 2])\n",
    "a * b"
   ]
  },
  {
   "cell_type": "markdown",
   "metadata": {},
   "source": [
    "NumPy’s broadcasting rule relaxes this constraint when the arrays’ shapes meet certain constraints. The simplest broadcasting example occurs when an array and a scalar value are combined in an operation:"
   ]
  },
  {
   "cell_type": "code",
   "execution_count": null,
   "metadata": {},
   "outputs": [],
   "source": [
    "a = np.array([1,2,3])\n",
    "b = 2\n",
    "a * b"
   ]
  },
  {
   "cell_type": "markdown",
   "metadata": {},
   "source": [
    "The broadcasting applied in the previous example virtually \"streches\" `b` to match `a`'s shape.\n",
    "This can be illustrated by the following figure:\n",
    "![numpy broadcasting 1](img/practice_01/theory.broadcast_1.gif)"
   ]
  },
  {
   "cell_type": "markdown",
   "metadata": {},
   "source": [
    "The rule governing whether two arrays have compatible shapes for broadcasting can be expressed in a single sentence.\n",
    "\n",
    "> **The Broadcasting Rule:**\n",
    ">\n",
    "> **In order to broadcast, the size of the trailing axes for both arrays in an operation must either be the same size or one of them must be one.**\n",
    "\n",
    "Here are more examples (taken from the documentation, again):"
   ]
  },
  {
   "cell_type": "code",
   "execution_count": null,
   "metadata": {},
   "outputs": [],
   "source": [
    "a = np.array([[ 0,  0,  0],\n",
    "              [10, 10, 10],\n",
    "              [20, 20, 20],\n",
    "              [30, 30, 30]])\n",
    "b = np.array([0, 1, 2])\n",
    "a + b"
   ]
  },
  {
   "cell_type": "markdown",
   "metadata": {},
   "source": [
    "A two dimensional array multiplied by a one dimensional array results in broadcasting if number of 1-d array elements matches the number of 2-d array columns.\n",
    "![numpy broadcast2](img/practice_01/theory.broadcast_2.gif)\n",
    "\n",
    "However, when the trailing dimensions of the arrays are unequal, broadcasting fails because it is impossible to align the values in the rows of the 1st array with the elements of the 2nd arrays for element-by-element addition.\n",
    "![numpy broadcast fail](img/practice_01/theory.broadcast_3.gif)"
   ]
  },
  {
   "cell_type": "code",
   "execution_count": null,
   "metadata": {},
   "outputs": [],
   "source": [
    "a = np.array([[ 0,  0,  0],\n",
    "              [10, 10, 10],\n",
    "              [20, 20, 20],\n",
    "              [30, 30, 30]])\n",
    "b = np.array([0, 1, 2, 3])\n",
    "a + b"
   ]
  },
  {
   "cell_type": "markdown",
   "metadata": {},
   "source": [
    "The following example shows an outer addition operation of two 1-d arrays that produces the same result as the previous (working) example.\n",
    "Here the `newaxis` index operator inserts a new axis into `a`, making it a two-dimensional 4x1 array."
   ]
  },
  {
   "cell_type": "code",
   "execution_count": null,
   "metadata": {},
   "outputs": [],
   "source": [
    "a = np.array([0.0, 10.0, 20.0, 30.0])\n",
    "b = np.array([1.0, 2.0, 3.0])\n",
    "a[:, np.newaxis] + b"
   ]
  },
  {
   "cell_type": "markdown",
   "metadata": {},
   "source": [
    "The following figure illustrates the stretching of both arrays to produce the desired 4x3 output array.\n",
    "![numpy broadcast 4](img/practice_01/theory.broadcast_4.gif)"
   ]
  },
  {
   "cell_type": "markdown",
   "metadata": {},
   "source": [
    "<div style=\"overflow: auto; border-style: dotted; border-width: 1px; padding: 10px; margin: 10px 0px\">\n",
    "<img alt=\"work\" src='img/work.png' style='float: left; margin-right: 20px'>\n",
    "\n",
    "**Display the shape of a when we add it a new axis like in the previous example.**\n",
    "</div>"
   ]
  },
  {
   "cell_type": "code",
   "execution_count": null,
   "metadata": {},
   "outputs": [],
   "source": [
    "# TODO display the shape of a when we add it a new axis like in the previous example\n",
    "a.shape"
   ]
  },
  {
   "cell_type": "markdown",
   "metadata": {},
   "source": [
    "### Apply an operation along an axis\n",
    "Most of the aggregation function allow you to specify the axis along which the computation will be performed.\n",
    "`axis=0` means the first axis, `axis=i` means the $i+1$ axis, **`axis=-1` means the last axis.**\n",
    "\n",
    "This allows, for example, to compute the warmest month for each city (or the warmest city for each month)."
   ]
  },
  {
   "cell_type": "code",
   "execution_count": null,
   "metadata": {},
   "outputs": [],
   "source": [
    "# Some probably buggy stats\n",
    "data = np.array([\n",
    "    # January,February,March,April,May,June,July,August,September,October,November,December\n",
    "    [14,14,16,18,22,25,28,29,26,23,18,15],  # Ajaccio\n",
    "    [14,14,16,18,22,26,29,29,26,22,17,15],  # Bastia\n",
    "    [5,7,12,15,20,24,26,26,22,17,10,5],  # Bourg-Saint-Maurice\n",
    "    [10,11,14,17,21,25,29,28,25,19,14,10],  # Carcassonne\n",
    "    [6,8,12,15,20,24,27,26,22,17,10,6],  # Grenoble\n",
    "    [6,8,13,16,21,25,28,27,23,17,11,7],  # Lyon\n",
    "    [11,13,16,19,23,27,30,30,26,21,15,12],  # Marseille\n",
    "    [8,10,15,18,22,26,30,29,24,19,12,9],  # Montelimar\n",
    "    [12,13,16,18,22,26,29,29,25,21,15,12],  # Montpellier\n",
    "    [13,13,15,17,21,24,27,28,25,21,17,14],  # Nice\n",
    "    [12,13,16,18,22,26,29,29,25,21,16,13],  # Perpignan\n",
    "    [13,14,16,18,22,26,30,30,26,21,16,14],  # Toulon\n",
    "])\n",
    "months = np.array([\"January\",\"February\",\"March\",\"April\",\"May\",\"June\",\"July\",\n",
    "          \"August\",\"September\",\"October\",\"November\",\"December\"])\n",
    "cities = np.array([\"Ajaccio\", \"Bastia\", \"Bourg-Saint-Maurice\", \"Carcassonne\", \n",
    "          \"Grenoble\", \"Lyon\", \"Marseille\", \"Montelimar\", \"Montpellier\", \n",
    "          \"Nice\", \"Perpignan\", \"Toulon\"])"
   ]
  },
  {
   "cell_type": "markdown",
   "metadata": {},
   "source": [
    "<div style=\"overflow: auto; border-style: dotted; border-width: 1px; padding: 10px; margin: 10px 0px\">\n",
    "<img alt=\"work\" src='img/work.png' style='float: left; margin-right: 20px'>\n",
    "    \n",
    "**Display the warmest month for each city. Use the `argmax` operation on `data` with appropriate `axis` parameter.**\n",
    "</div>"
   ]
  },
  {
   "cell_type": "code",
   "execution_count": null,
   "metadata": {},
   "outputs": [],
   "source": [
    "# TODO use the `argmax` operation on `data`\n",
    "warmest_months = np.zeros(12, dtype=int)  # FIXME replace this line\n",
    "warmest_months"
   ]
  },
  {
   "cell_type": "code",
   "execution_count": null,
   "metadata": {},
   "outputs": [],
   "source": [
    "list(zip(cities, months[warmest_months]))"
   ]
  },
  {
   "cell_type": "markdown",
   "metadata": {},
   "source": [
    "<div style=\"overflow: auto; border-style: dotted; border-width: 1px; padding: 10px; margin: 10px 0px\">\n",
    "<img alt=\"work\" src='img/work.png' style='float: left; margin-right: 20px'>\n",
    "    \n",
    "**Display the warmest city for each month. Use the `argmax` operation on `data` with appropriate `axis` parameter.**\n",
    "</div>"
   ]
  },
  {
   "cell_type": "code",
   "execution_count": null,
   "metadata": {},
   "outputs": [],
   "source": [
    "# TODO"
   ]
  },
  {
   "cell_type": "markdown",
   "metadata": {},
   "source": [
    "###  Gluing arrays together\n",
    "You can \"glue\" arrays together as long as their shape is compatible."
   ]
  },
  {
   "cell_type": "code",
   "execution_count": null,
   "metadata": {},
   "outputs": [],
   "source": [
    "a = np.arange(3*2).reshape((3,2))\n",
    "b = np.arange(3*2).reshape((3,2))"
   ]
  },
  {
   "cell_type": "code",
   "execution_count": null,
   "metadata": {},
   "outputs": [],
   "source": [
    "np.hstack((a,b))"
   ]
  },
  {
   "cell_type": "code",
   "execution_count": null,
   "metadata": {},
   "outputs": [],
   "source": [
    "np.vstack((a,b))"
   ]
  },
  {
   "cell_type": "code",
   "execution_count": null,
   "metadata": {},
   "outputs": [],
   "source": [
    "np.stack((a,b), axis=-1)"
   ]
  },
  {
   "cell_type": "markdown",
   "metadata": {},
   "source": [
    "### Copies vs views\n",
    "Array indexing may not copy the memory but returns a view instead.\n",
    "**In this case, changing the view changes the original array.**\n",
    "Make sure to make a copy of the original array, or of the view's underlying data, if you do not want to use the same object twice!\n",
    "\n",
    "The simplest case is when a reference is copied (either during assignment or during a function call)."
   ]
  },
  {
   "cell_type": "code",
   "execution_count": null,
   "metadata": {},
   "outputs": [],
   "source": [
    "a = np.array([10, 20, 30])\n",
    "b = a\n",
    "b += 1\n",
    "a"
   ]
  },
  {
   "cell_type": "markdown",
   "metadata": {},
   "source": [
    "You can use the `copy()` method to perform a deep copy of some array."
   ]
  },
  {
   "cell_type": "markdown",
   "metadata": {},
   "source": [
    "<div style=\"overflow: auto; border-style: dotted; border-width: 1px; padding: 10px; margin: 10px 0px\">\n",
    "<img alt=\"work\" src='img/work.png' style='float: left; margin-right: 20px'>\n",
    "    \n",
    "**Use `copy()` to copy `a` values into `b`, then update `b` without changing `a`.**\n",
    "</div>"
   ]
  },
  {
   "cell_type": "code",
   "execution_count": null,
   "metadata": {},
   "outputs": [],
   "source": [
    "# TODO copy a into b instead of creating an extra reference to the same object\n",
    "a = np.array([10, 20, 30])\n",
    "b = a\n",
    "b += 1\n",
    "a"
   ]
  },
  {
   "cell_type": "markdown",
   "metadata": {},
   "source": [
    "Slicing an array returns a view of it!"
   ]
  },
  {
   "cell_type": "code",
   "execution_count": null,
   "metadata": {},
   "outputs": [],
   "source": [
    "a = np.array([10, 20, 30])\n",
    "s = a[1:]\n",
    "s += 1\n",
    "a"
   ]
  },
  {
   "cell_type": "markdown",
   "metadata": {},
   "source": [
    "###  Linear algebra and other NumPy tools"
   ]
  },
  {
   "cell_type": "markdown",
   "metadata": {},
   "source": [
    "Just for the record, NumPy also contains [many linera algebra and other useful routines](https://docs.scipy.org/doc/numpy/reference/routines.html) for statistics, mathematics, random sampling, etc.\n",
    "\n",
    "You'll discover them progressively."
   ]
  },
  {
   "cell_type": "markdown",
   "metadata": {},
   "source": [
    "## Matplotlib survival guide\n",
    "You can plot data using the simple **stateful** `plt` interface.\n",
    "You start by creating a figure with\n",
    "```python\n",
    "plt.figure()\n",
    "```\n",
    "then you plot some data, plots are added to the current figure:\n",
    "```python\n",
    "plt.plot([0, 1, 2, 3], [1, 3, 5, 7])\n",
    "plt.plot([0, 1, 2, 3], [2, 4, 6, 8])\n",
    "```\n",
    "and finally you call the rendering function:\n",
    "```python\n",
    "plt.show()\n",
    "```"
   ]
  },
  {
   "cell_type": "markdown",
   "metadata": {},
   "source": [
    "Here is a more complete example you will be able to reuse:"
   ]
  },
  {
   "cell_type": "code",
   "execution_count": null,
   "metadata": {},
   "outputs": [],
   "source": [
    "plt.figure()\n",
    "plt.plot([0, 1, 2, 3], [1, 3, 5, 7], label='first')\n",
    "plt.plot([0, 1, 2, 3], [2, 4, 6, 8], label='second')\n",
    "plt.legend()\n",
    "plt.title(\"First figure\")\n",
    "plt.ylabel('some numbers')\n",
    "plt.xlim(0, 5)\n",
    "plt.show()"
   ]
  },
  {
   "cell_type": "markdown",
   "metadata": {},
   "source": [
    "And another one showing two images in two different subfigures."
   ]
  },
  {
   "cell_type": "code",
   "execution_count": null,
   "metadata": {},
   "outputs": [],
   "source": [
    "img1 = plt.imread('img/warning.png')\n",
    "img2 = plt.imread('img/stop.png')"
   ]
  },
  {
   "cell_type": "code",
   "execution_count": null,
   "metadata": {},
   "outputs": [],
   "source": [
    "plt.figure()\n",
    "plt.subplot(1, 2, 1) # values: total number of rows, total number of columes, index (starting at 1)\n",
    "plt.imshow(img1)\n",
    "plt.axis('off')\n",
    "plt.title(\"subfig1 title\")\n",
    "plt.subplot(1, 2, 2)\n",
    "plt.imshow(img2)\n",
    "plt.axis('on')\n",
    "plt.show()"
   ]
  },
  {
   "cell_type": "markdown",
   "metadata": {},
   "source": [
    "Another example with an histogram."
   ]
  },
  {
   "cell_type": "code",
   "execution_count": null,
   "metadata": {},
   "outputs": [],
   "source": [
    "sample_img = plt.imread(\"img/practice_01/sample_img.png\") # matplotlib's imread only supports PNG files\n",
    "# This is just a numpy array!\n",
    "plt.figure()\n",
    "plt.subplot(1, 2, 1)\n",
    "plt.imshow(sample_img)\n",
    "plt.axis('off')\n",
    "plt.title(\"Image\")\n",
    "plt.subplot(1,2,2)\n",
    "# numpy ravel() returns a flatten array.\n",
    "plt.hist(sample_img[..., 0].ravel(), bins=256, fc='r', ec='r', alpha=0.5)\n",
    "plt.hist(sample_img[..., 1].ravel(), bins=256, fc='g', ec='g', alpha=0.5)\n",
    "plt.hist(sample_img[..., 2].ravel(), bins=256, fc='b', ec='b', alpha=0.5)\n",
    "plt.title(\"Basic color histogram\")\n",
    "plt.show()"
   ]
  },
  {
   "cell_type": "markdown",
   "metadata": {},
   "source": [
    "There are many possible graph types, and many options to configure colors, legends, markers, to add annotations, etc. You will discover them by practicing and by looking at examples.\n",
    "\n",
    "Let's just finish this very quick introduction to Matplotlib by pointing out useful resources:\n",
    "- [Tutorials](https://matplotlib.org/tutorials/index.html) to get the basic concepts;\n",
    "- [PyPlot examples](https://matplotlib.org/gallery/index.html#pyplots-examples) to copy code samples from;\n",
    "- [PyPlot API reference](https://matplotlib.org/api/_as_gen/matplotlib.pyplot.html#module-matplotlib.pyplot) for full information."
   ]
  },
  {
   "cell_type": "markdown",
   "metadata": {},
   "source": [
    "# Job done!\n",
    "Great! Now you're ready to move on to the next stage: [Image manipulations](practice_01-03_image-manipulations.ipynb)."
   ]
  }
 ],
 "metadata": {
  "hide_input": false,
  "kernelspec": {
   "display_name": "Python 3",
   "language": "python",
   "name": "python3"
  },
  "language_info": {
   "codemirror_mode": {
    "name": "ipython",
    "version": 3
   },
   "file_extension": ".py",
   "mimetype": "text/x-python",
   "name": "python",
   "nbconvert_exporter": "python",
   "pygments_lexer": "ipython3",
   "version": "3.8.5"
  },
  "varInspector": {
   "cols": {
    "lenName": 16,
    "lenType": 16,
    "lenVar": 40
   },
   "kernels_config": {
    "python": {
     "delete_cmd_postfix": "",
     "delete_cmd_prefix": "del ",
     "library": "var_list.py",
     "varRefreshCmd": "print(var_dic_list())"
    },
    "r": {
     "delete_cmd_postfix": ") ",
     "delete_cmd_prefix": "rm(",
     "library": "var_list.r",
     "varRefreshCmd": "cat(var_dic_list()) "
    }
   },
   "types_to_exclude": [
    "module",
    "function",
    "builtin_function_or_method",
    "instance",
    "_Feature"
   ],
   "window_display": false
  }
 },
 "nbformat": 4,
 "nbformat_minor": 2
}
