{
 "cells": [
  {
   "attachments": {},
   "cell_type": "markdown",
   "metadata": {},
   "source": [
    "EPITA 2024 MLRF practice_01-00_intro v2024-04-18_224843 by Joseph CHAZALON\n",
    "\n",
    "<div style=\"overflow: auto; padding: 10px; margin: 10px 0px\">\n",
    "<img alt=\"Creative Commons License\" src='img/CC-BY-4.0.png' style='float: left; margin-right: 20px'>\n",
    "    \n",
    "This work is licensed under a [Creative Commons Attribution 4.0 International License](http://creativecommons.org/licenses/by/4.0/).\n",
    "</div>"
   ]
  },
  {
   "attachments": {},
   "cell_type": "markdown",
   "metadata": {},
   "source": [
    "# Practice session 1: Introduction\n",
    "\n",
    "## Goals\n",
    "The objectives of this sessions are:\n",
    "1. to get you started with **image manipulations using Python**;\n",
    "2. to let you experiment with **simple image descriptors**;\n",
    "3. to show you the importance (and the challenges) of **evaluating the performance of an image processing system**.\n",
    "\n",
    "## Agenda\n",
    "\n",
    "The session is organised as follows:\n",
    "1. (optional) [Jupyter](practice_01-01_jupyter.ipynb) — First, we will quickly review how to use [Jupyter](https://jupyter.org/) efficiently. **You can safely skip this first stage, just make sure you know how to use Jupyter's \"magics\".**\n",
    "2. (optional) [NumPy](practice_01-02_numpy.ipynb) — Second, we will make sure you have learned the basics of Python and are proficient with [SciPy](https://www.scipy.org/) major packages: [NumPy](http://www.numpy.org/) (matrix and tensor manipulation) and [Matplotlib](https://matplotlib.org/) (2D plotting). **Important: apparently you already are used to manipulate NumPy, so you can safely skip this stage. Just have a look at Matplotlib examples at the end.**\n",
    "3. (optional) [Image manipulations](practice_01-03_image-manipulations.ipynb) — Then, we'll show/remind you the basics of image manipulation using [OpenCV](https://opencv.org/) and [Scikit-Image](http://scikit-image.org).\n",
    "4. [Color Histograms](practice_02-01_color-histogram.ipynb) — You will learn how to compute color histograms for images and use them to quickly compare images.\n",
    "\n",
    "Make sure you read and understand everything, and complete all the required actions.\n",
    "**Required actions** are preceded by the following sign:\n",
    "![Back to work!](img/work.png)"
   ]
  },
  {
   "cell_type": "markdown",
   "metadata": {},
   "source": [
    "# Let's get started!\n",
    "Now you're ready to move on to the next stage: [A quick tour of Jupyter features](practice_01-01_jupyter.ipynb)."
   ]
  }
 ],
 "metadata": {
  "hide_input": false,
  "kernelspec": {
   "display_name": "Python 3",
   "language": "python",
   "name": "python3"
  },
  "language_info": {
   "codemirror_mode": {
    "name": "ipython",
    "version": 3
   },
   "file_extension": ".py",
   "mimetype": "text/x-python",
   "name": "python",
   "nbconvert_exporter": "python",
   "pygments_lexer": "ipython3",
   "version": "3.8.5"
  },
  "varInspector": {
   "cols": {
    "lenName": 16,
    "lenType": 16,
    "lenVar": 40
   },
   "kernels_config": {
    "python": {
     "delete_cmd_postfix": "",
     "delete_cmd_prefix": "del ",
     "library": "var_list.py",
     "varRefreshCmd": "print(var_dic_list())"
    },
    "r": {
     "delete_cmd_postfix": ") ",
     "delete_cmd_prefix": "rm(",
     "library": "var_list.r",
     "varRefreshCmd": "cat(var_dic_list()) "
    }
   },
   "types_to_exclude": [
    "module",
    "function",
    "builtin_function_or_method",
    "instance",
    "_Feature"
   ],
   "window_display": false
  }
 },
 "nbformat": 4,
 "nbformat_minor": 2
}
