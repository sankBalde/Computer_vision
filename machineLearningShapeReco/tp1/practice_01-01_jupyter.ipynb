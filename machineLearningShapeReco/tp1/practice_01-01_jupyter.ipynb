{
 "cells": [
  {
   "cell_type": "markdown",
   "metadata": {},
   "source": [
    "EPITA 2024 MLRF practice_01-01_jupyter v2024-04-18_224843 by Joseph CHAZALON\n",
    "\n",
    "<div style=\"overflow: auto; padding: 10px; margin: 10px 0px\">\n",
    "<img alt=\"Creative Commons License\" src='img/CC-BY-4.0.png' style='float: left; margin-right: 20px'>\n",
    "    \n",
    "This work is licensed under a [Creative Commons Attribution 4.0 International License](http://creativecommons.org/licenses/by/4.0/).\n",
    "</div>"
   ]
  },
  {
   "cell_type": "markdown",
   "metadata": {},
   "source": [
    "# Practice session 1 part 1: Jupyter\n",
    "\n",
    "This first session is based on a [Jupyter](https://jupyter.org/) notebook, like the future ones.\n",
    "We this this is a great format because:\n",
    "- it allows us to merge assignment subject with samples, leave holes to fill, etc.;\n",
    "- we can directly share code, comments, figures, etc. with you in a simple and easy way;\n",
    "- you can edit, complete and run the code;\n",
    "- you can take notes along with your experiments to produce great reports;\n",
    "- it is an emerging industrial tool.\n",
    "\n",
    "It may be a good idea to spent 10 minutes learning a few tricks about Jupyter.\n",
    "We'll focus on:\n",
    "1. manipulating cells,\n",
    "2. running code,\n",
    "3. writing comments,\n",
    "4. and glimpse the power of iPython's magic…\n",
    "\n",
    "You can safely skip this session if you already have experience using Jupyter.\n",
    "\n",
    "## Manipulating cells\n",
    "Jupyter has two modes:\n",
    "1. Command Mode (press <kbd>Esc</kbd>  to enable)\n",
    "2. Edit Mode (press <kbd>Enter</kbd> to enable)\n",
    "\n",
    "If you are using Chrome (which exhibited better compatibility in our tests), you can toggle the *command palette* by pressing <kbd>Ctrl</kbd>+<kbd>Shift</kbd>+<kbd>P</kbd> at any time."
   ]
  },
  {
   "cell_type": "markdown",
   "metadata": {},
   "source": [
    "<div style=\"overflow: auto; border-style: dotted; border-width: 1px; padding: 10px; margin: 10px 0px\">\n",
    "<img alt=\"work\" src='img/work.png' style='float: left; margin-right: 20px'>\n",
    "    \n",
    "**Press <kbd>Ctrl</kbd>+<kbd>Shift</kbd>+<kbd>P</kbd> now to reveal the command palette and type `shortcut` to look for keyboard shortcuts.**\n",
    "</div>"
   ]
  },
  {
   "attachments": {},
   "cell_type": "markdown",
   "metadata": {},
   "source": [
    "You can change how cells are interpreted. In particular, 2 cell types are of interest:\n",
    "1. code (<kbd>Esc</kbd>+<kbd>y</kbd>) ← use it to write functions and call them\n",
    "2. markdown (<kbd>Esc</kbd>+<kbd>m</kbd>) ← use it to take notes    "
   ]
  },
  {
   "cell_type": "markdown",
   "metadata": {},
   "source": [
    "<div style=\"overflow: auto; border-style: dotted; border-width: 1px; padding: 10px; margin: 10px 0px\">\n",
    "<img alt=\"work\" src='img/work.png' style='float: left; margin-right: 20px'>\n",
    "    \n",
    "**Focus this cell and change its type. Notice how syntax highlighting is changing.**\n",
    "</div>"
   ]
  },
  {
   "cell_type": "markdown",
   "metadata": {},
   "source": [
    "You can also insert, merge, copy, paste, delete, move cells."
   ]
  },
  {
   "cell_type": "markdown",
   "metadata": {},
   "source": [
    "<div style=\"overflow: auto; border-style: dotted; border-width: 1px; padding: 10px; margin: 10px 0px\">\n",
    "<img alt=\"work\" src='img/work.png' style='float: left; margin-right: 20px'>\n",
    "    \n",
    "**Check the keyboard shortcut by pressing <kbd>h</kbd> in command mode, then look for some shortcuts.**\n",
    "**Make sure to remember the shortcuts for inserting above (<kbd>a</kbd>), below (<kbd>b</kbd>) and delete (<kbd>d</kbd>+<kbd>d</kbd>) because you will use them all the time.**\n",
    "</div>"
   ]
  },
  {
   "cell_type": "markdown",
   "metadata": {},
   "source": [
    "## Running cells\n",
    "Running a cell is so easy!\n",
    "1. First enter edit mode (<kbd>Enter</kbd>)\n",
    "2. Then use either:\n",
    "  - <kbd>Ctrl</kbd>+<kbd>Enter</kbd> to run and focus this cell in command mode;\n",
    "  - <kbd>Shift</kbd>+<kbd>Enter</kbd> to run the current cell and focus the next one in command mode;\n",
    "  - <kbd>Alt</kbd>+<kbd>Enter</kbd> to run the current cell, insert a new one below, and enter edit mode for the new cell."
   ]
  },
  {
   "cell_type": "markdown",
   "metadata": {},
   "source": [
    "<div style=\"overflow: auto; border-style: dotted; border-width: 1px; padding: 10px; margin: 10px 0px\">\n",
    "<img alt=\"work\" src='img/work.png' style='float: left; margin-right: 20px'>\n",
    "    \n",
    "**Now focus the cell below, change its mode to code, then run it.**\n",
    "</div>"
   ]
  },
  {
   "cell_type": "raw",
   "metadata": {},
   "source": [
    "print('$qsD!Me+nsodd= 1l lre3W$'[-2:2:-2])"
   ]
  },
  {
   "cell_type": "markdown",
   "metadata": {},
   "source": [
    "## Writing comments\n",
    "Writing comments is really easy too: just change the cell type to [markdown](https://github.com/adam-p/markdown-here/wiki/Markdown-Cheatsheet) and write text in ~~ReStructured~~ format.\n",
    "\n",
    "It is as easy as $1 + 1 = 3$!\n",
    "\n",
    "Or even:\n",
    "\n",
    "$$(f * g)(t) \\triangleq\\ \\int_{-\\infty}^\\infty f(\\tau) g(t - \\tau) \\, d\\tau$$"
   ]
  },
  {
   "cell_type": "markdown",
   "metadata": {},
   "source": [
    "<div style=\"overflow: auto; border-style: dotted; border-width: 1px; padding: 10px; margin: 10px 0px\">\n",
    "<img alt=\"work\" src='img/work.png' style='float: left; margin-right: 20px'>\n",
    "    \n",
    "**Edit and correct the errors in the previous cell.**\n",
    "</div>"
   ]
  },
  {
   "cell_type": "markdown",
   "metadata": {},
   "source": [
    "## iPython's magic\n",
    "Jupyter is a tool to display notebooks and run code in *kernels*.\n",
    "\n",
    "It uses [iPython](https://ipython.org/) to interactively run Python code.\n",
    "\n",
    "iPython provides [much more features](https://ipython.readthedocs.io/en/stable/overview.html) than the default Python interpreter, among which:\n",
    "- completion using the <kbd>Tab</kbd> key;\n",
    "- interaction with the shell using `!`, `!!` or `var = !shell_command` constructs which allows both to run shell commands and capture their output in a very easy way (and you can pass Python variables to the shell using `$` constructs;\n",
    "- *magic* commands for a line (`%` magics) or for a cell (`%%` magics);\n",
    "- instant help using `?` and `??` constructs with optional wildcards."
   ]
  },
  {
   "cell_type": "markdown",
   "metadata": {},
   "source": [
    "<div style=\"overflow: auto; border-style: dotted; border-width: 1px; padding: 10px; margin: 10px 0px\">\n",
    "<img alt=\"work\" src='img/work.png' style='float: left; margin-right: 20px'>\n",
    "    \n",
    "**Use the `%quickref` magic to have a look at all available features.**\n",
    "</div>"
   ]
  },
  {
   "cell_type": "code",
   "execution_count": null,
   "metadata": {},
   "outputs": [],
   "source": [
    "# TODO Call this cell!\n",
    "%quickref"
   ]
  },
  {
   "cell_type": "markdown",
   "metadata": {},
   "source": [
    "<div style=\"overflow: auto; border-style: dotted; border-width: 1px; padding: 10px; margin: 10px 0px\">\n",
    "<img alt=\"work\" src='img/work.png' style='float: left; margin-right: 20px'>\n",
    "    \n",
    "**Capture the list of notebook files in the current folder to a custom variable using shell escape `!`.**\n",
    "</div>"
   ]
  },
  {
   "cell_type": "code",
   "execution_count": null,
   "metadata": {},
   "outputs": [],
   "source": [
    "# TODO fix this cell\n",
    "notebooks = !echo nothing\n",
    "notebooks[:10]"
   ]
  },
  {
   "cell_type": "markdown",
   "metadata": {},
   "source": [
    "Let's complete this preambule by measuring how much time is necessary to perform a simple computation.\n",
    "\n",
    "Here is a [simple function](https://en.wikipedia.org/wiki/Collatz_conjecture) which return a positive integer for any positive integer > 0."
   ]
  },
  {
   "cell_type": "code",
   "execution_count": null,
   "metadata": {},
   "outputs": [],
   "source": [
    "def collatz_total_stopping_time(n):\n",
    "    if not n > 0:\n",
    "        raise ValueError(\"n must be > 0\")\n",
    "    nn = n\n",
    "    i = 0\n",
    "    while nn > 1:\n",
    "        if nn % 2 == 0:\n",
    "            nn = nn / 2\n",
    "        else:\n",
    "            nn = nn * 3 + 1\n",
    "        i += 1\n",
    "    return i"
   ]
  },
  {
   "cell_type": "markdown",
   "metadata": {},
   "source": [
    "<div style=\"overflow: auto; border-style: dotted; border-width: 1px; padding: 10px; margin: 10px 0px\">\n",
    "<img alt=\"work\" src='img/work.png' style='float: left; margin-right: 20px'>\n",
    "    \n",
    "**Now measure the time required to compute the value associated to some arbitrary number (like $63,728,127$).**\n",
    "</div>"
   ]
  },
  {
   "cell_type": "code",
   "execution_count": null,
   "metadata": {},
   "outputs": [],
   "source": [
    "collatz_total_stopping_time(63728127)"
   ]
  },
  {
   "cell_type": "markdown",
   "metadata": {},
   "source": [
    "Finally, let's try to find which numbers in $[1, 100000]$ produces the greatest output."
   ]
  },
  {
   "cell_type": "markdown",
   "metadata": {},
   "source": [
    "<div style=\"overflow: auto; border-style: dotted; border-width: 1px; padding: 10px; margin: 10px 0px\">\n",
    "<img alt=\"work\" src='img/work.png' style='float: left; margin-right: 20px'>\n",
    "    \n",
    "**Now measure the time required to compute the result for the following cell.**\n",
    "</div>"
   ]
  },
  {
   "cell_type": "code",
   "execution_count": null,
   "metadata": {},
   "outputs": [],
   "source": [
    "max_i = 0\n",
    "max_n = 1\n",
    "for n in range(1, 100000+1):\n",
    "    i = collatz_total_stopping_time(n)\n",
    "    if i > max_i:\n",
    "        max_i = i\n",
    "        max_n = n\n",
    "max_n, max_i"
   ]
  },
  {
   "cell_type": "markdown",
   "metadata": {},
   "source": [
    "And, to complete this short list of tips and tricks, my favorite: the **online help**.\n",
    "You can add `?` at the beginning or the end of a line to display the help about the related symbol."
   ]
  },
  {
   "cell_type": "markdown",
   "metadata": {},
   "source": [
    "<div style=\"overflow: auto; border-style: dotted; border-width: 1px; padding: 10px; margin: 10px 0px\">\n",
    "<img alt=\"work\" src='img/work.png' style='float: left; margin-right: 20px'>\n",
    "    \n",
    "**Try to display some help about a well-known function.**\n",
    "\n",
    "*Tip: using two `?`s should provide more help, if available.*\n",
    "</div>"
   ]
  },
  {
   "cell_type": "code",
   "execution_count": null,
   "metadata": {},
   "outputs": [],
   "source": [
    "# TODO run this cell\n",
    "zip?"
   ]
  },
  {
   "cell_type": "markdown",
   "metadata": {},
   "source": [
    "You can also use wildcards to display all matching symbols in the current namespace!\n",
    "\n",
    "This can be particularly useful with OpenCV to locate some functions.\n",
    "\n",
    "You can use this trick like this:"
   ]
  },
  {
   "cell_type": "code",
   "execution_count": null,
   "metadata": {},
   "outputs": [],
   "source": [
    "import cv2\n",
    "cv2.*onnected*?"
   ]
  },
  {
   "cell_type": "markdown",
   "metadata": {},
   "source": [
    "# Job done!\n",
    "Now you're ready to move on to the next stage: [Sharpening your NumPy-fu skills](practice_01-02_numpy.ipynb)."
   ]
  }
 ],
 "metadata": {
  "kernelspec": {
   "display_name": "Python 3 (ipykernel)",
   "language": "python",
   "name": "python3"
  },
  "language_info": {
   "codemirror_mode": {
    "name": "ipython",
    "version": 3
   },
   "file_extension": ".py",
   "mimetype": "text/x-python",
   "name": "python",
   "nbconvert_exporter": "python",
   "pygments_lexer": "ipython3",
   "version": "3.10.6"
  }
 },
 "nbformat": 4,
 "nbformat_minor": 2
}
