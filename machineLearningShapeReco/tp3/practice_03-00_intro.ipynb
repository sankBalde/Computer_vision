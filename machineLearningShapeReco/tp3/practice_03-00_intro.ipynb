{
 "cells": [
  {
   "cell_type": "markdown",
   "metadata": {},
   "source": [
    "EPITA MLRF practice_03-00_intro v2024-05-31_100639 by Joseph CHAZALON\n",
    "\n",
    "<div style=\"overflow: auto; padding: 10px; margin: 10px 0px\">\n",
    "<img alt=\"Creative Commons License\" src='img/CC-BY-4.0.png' style='float: left; margin-right: 20px'>\n",
    "    \n",
    "This work is licensed under a [Creative Commons Attribution 4.0 International License](http://creativecommons.org/licenses/by/4.0/).\n",
    "</div>"
   ]
  },
  {
   "cell_type": "markdown",
   "metadata": {},
   "source": [
    "# Practice session 03: Introduction\n",
    "\n",
    "This session illustrates a simple Augmented Reality (AR) framework.\n",
    "This session is shorted than the previous ones, so you can resynchronize with the pace of practice sessions.\n",
    "\n",
    "## Goals\n",
    "- get started with ORB;\n",
    "- detect keypoints and compute their descriptors;\n",
    "- implement a robust matching using ratio test;\n",
    "- estimate homographies;\n",
    "- warp images.\n",
    "\n",
    "\n",
    "## Agenda\n",
    "This session contains a single part: [Use ORB, perform simple AR](practice_03-01_ORB_AR.ipynb).\n",
    "\n",
    "\n",
    "## Warning: resource location\n",
    "We only need two images for this session, so they are packaged with this notebook, in the `resources` folder.\n",
    "\n",
    "\n",
    "\n",
    "## What you need to do\n",
    "Make sure you read and understand everything, and complete all the required actions.\n",
    "**Required actions** are preceded by the following sign:\n",
    "![Back to work!](img/work.png)"
   ]
  },
  {
   "cell_type": "markdown",
   "metadata": {},
   "source": [
    "# Let's get started!\n",
    "Now you're ready to move on to the next stage: [Use ORB, perform simple AR](practice_03-01_ORB_AR.ipynb)."
   ]
  }
 ],
 "metadata": {
  "kernelspec": {
   "display_name": "Python 3",
   "language": "python",
   "name": "python3"
  },
  "language_info": {
   "codemirror_mode": {
    "name": "ipython",
    "version": 3
   },
   "file_extension": ".py",
   "mimetype": "text/x-python",
   "name": "python",
   "nbconvert_exporter": "python",
   "pygments_lexer": "ipython3",
   "version": "3.8.5"
  },
  "varInspector": {
   "cols": {
    "lenName": 16,
    "lenType": 16,
    "lenVar": 40
   },
   "kernels_config": {
    "python": {
     "delete_cmd_postfix": "",
     "delete_cmd_prefix": "del ",
     "library": "var_list.py",
     "varRefreshCmd": "print(var_dic_list())"
    },
    "r": {
     "delete_cmd_postfix": ") ",
     "delete_cmd_prefix": "rm(",
     "library": "var_list.r",
     "varRefreshCmd": "cat(var_dic_list()) "
    }
   },
   "types_to_exclude": [
    "module",
    "function",
    "builtin_function_or_method",
    "instance",
    "_Feature"
   ],
   "window_display": false
  }
 },
 "nbformat": 4,
 "nbformat_minor": 2
}
